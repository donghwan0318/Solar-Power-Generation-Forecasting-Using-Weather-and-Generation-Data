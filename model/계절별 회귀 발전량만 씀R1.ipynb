{
 "cells": [
  {
   "cell_type": "code",
   "execution_count": 3,
   "metadata": {},
   "outputs": [],
   "source": [
    "import pandas as pd\n",
    "import numpy as np\n",
    "import statsmodels.api as sm\n",
    "# 모델\n",
    "from sklearn.metrics import mean_squared_error\n",
    "from sklearn.linear_model import LinearRegression"
   ]
  },
  {
   "cell_type": "code",
   "execution_count": 2,
   "metadata": {},
   "outputs": [],
   "source": [
    "gens = pd.read_csv(\"../gens.csv\")\n",
    "p_gens = pd.read_csv(\"../pred.csv\")\n",
    "wf = pd.read_csv(\"../weather_forecast.csv\")"
   ]
  },
  {
   "cell_type": "code",
   "execution_count": 3,
   "metadata": {},
   "outputs": [],
   "source": [
    "# 발전량 예측량을 모델별로 분리해서 변수로 만들라고 분리하는거\n",
    "p_gens0 = p_gens.loc[(p_gens[\"model_id\"]==0) & (p_gens[\"round\"]==1)].reset_index()\n",
    "p_gens1 = p_gens.loc[(p_gens[\"model_id\"]==1) & (p_gens[\"round\"]==1)].reset_index()\n",
    "p_gens2 = p_gens.loc[(p_gens[\"model_id\"]==2) & (p_gens[\"round\"]==1)].reset_index()\n",
    "p_gens3 = p_gens.loc[(p_gens[\"model_id\"]==3) & (p_gens[\"round\"]==1)].reset_index()\n",
    "p_gens4 = p_gens.loc[(p_gens[\"model_id\"]==4) & (p_gens[\"round\"]==1)].reset_index()"
   ]
  },
  {
   "cell_type": "code",
   "execution_count": 4,
   "metadata": {},
   "outputs": [],
   "source": [
    "# 날씨 예측량을 데이터프레임으로 왜냐면 모델 train 시킬라고\n",
    "wf_round1 = wf[wf[\"round\"]==1]\n",
    "wf_round2 = wf[wf[\"round\"]==2]"
   ]
  },
  {
   "cell_type": "code",
   "execution_count": 5,
   "metadata": {},
   "outputs": [],
   "source": [
    "x_df = pd.DataFrame({\"m0\": p_gens0[\"amount\"],\"m1\": p_gens1[\"amount\"],\n",
    "              \"m2\": p_gens2[\"amount\"],\"m3\": p_gens3[\"amount\"],\n",
    "              \"m4\": p_gens4[\"amount\"], \"time\" : p_gens0[\"time\"]})\n",
    "y_df= gens[\"amount\"]"
   ]
  },
  {
   "cell_type": "code",
   "execution_count": 6,
   "metadata": {},
   "outputs": [],
   "source": [
    "xy_df = pd.merge(x_df,wf_round1,on=\"time\")\n",
    "xy_df = pd.merge(xy_df,gens,on=\"time\")\n",
    "x_df = xy_df.drop([\"round\",\"amount\"],axis=1)\n",
    "y_df = xy_df[\"amount\"]"
   ]
  },
  {
   "cell_type": "code",
   "execution_count": 7,
   "metadata": {},
   "outputs": [],
   "source": [
    "# 독립 변수(X)와 종속 변수(y) 설정\n",
    "X = x_df[['m0','m1','m2','m3','m4']]\n",
    "y = y_df"
   ]
  },
  {
   "cell_type": "code",
   "execution_count": 8,
   "metadata": {},
   "outputs": [],
   "source": [
    "# 'time' 열을 날짜 형식으로 변환\n",
    "x_df['time'] = pd.to_datetime(x_df['time'])\n",
    "\n",
    "# 월(month) 정보를 추출하여 'month' 열 생성\n",
    "x_df['month'] = x_df['time'].dt.month\n",
    "\n",
    "# 계절별로 데이터 분할\n",
    "summer_data = x_df[(x_df['month'] >= 6) & (x_df['month'] <= 9)]  # 6월부터 9월까지: 여름\n",
    "fall_data = x_df[(x_df['month'] >= 10) & (x_df['month'] <= 11)]  # 10월부터 11월까지: 가을\n",
    "winter_data = x_df[(x_df['month'] >= 12) | (x_df['month'] <= 2)]  # 12월부터 2월까지: 겨울\n",
    "spring_data = x_df[(x_df['month'] >= 3) & (x_df['month'] <= 5)]  # 3월부터 5월까지: 봄\n",
    "\n",
    "# 'time' 열을 날짜 형식으로 변환\n",
    "gens['time'] = pd.to_datetime(gens['time'])\n",
    "\n",
    "# 월(month) 정보를 추출하여 'month' 열 생성\n",
    "gens['month'] = gens['time'].dt.month\n",
    "\n",
    "# 계절별로 데이터 분할\n",
    "summer_gens = gens[(gens['month'] >= 6) & (gens['month'] <= 9)]  # 여름\n",
    "fall_gens = gens[(gens['month'] >= 10) & (gens['month'] <= 11)]  # 가을\n",
    "winter_gens = gens[(gens['month'] >= 12) | (gens['month'] <= 2)]  # 겨울\n",
    "spring_gens = gens[(gens['month'] >= 3) & (gens['month'] <= 5)]  # 봄"
   ]
  },
  {
   "cell_type": "code",
   "execution_count": 9,
   "metadata": {},
   "outputs": [
    {
     "data": {
      "text/html": [
       "<style>#sk-container-id-1 {color: black;background-color: white;}#sk-container-id-1 pre{padding: 0;}#sk-container-id-1 div.sk-toggleable {background-color: white;}#sk-container-id-1 label.sk-toggleable__label {cursor: pointer;display: block;width: 100%;margin-bottom: 0;padding: 0.3em;box-sizing: border-box;text-align: center;}#sk-container-id-1 label.sk-toggleable__label-arrow:before {content: \"▸\";float: left;margin-right: 0.25em;color: #696969;}#sk-container-id-1 label.sk-toggleable__label-arrow:hover:before {color: black;}#sk-container-id-1 div.sk-estimator:hover label.sk-toggleable__label-arrow:before {color: black;}#sk-container-id-1 div.sk-toggleable__content {max-height: 0;max-width: 0;overflow: hidden;text-align: left;background-color: #f0f8ff;}#sk-container-id-1 div.sk-toggleable__content pre {margin: 0.2em;color: black;border-radius: 0.25em;background-color: #f0f8ff;}#sk-container-id-1 input.sk-toggleable__control:checked~div.sk-toggleable__content {max-height: 200px;max-width: 100%;overflow: auto;}#sk-container-id-1 input.sk-toggleable__control:checked~label.sk-toggleable__label-arrow:before {content: \"▾\";}#sk-container-id-1 div.sk-estimator input.sk-toggleable__control:checked~label.sk-toggleable__label {background-color: #d4ebff;}#sk-container-id-1 div.sk-label input.sk-toggleable__control:checked~label.sk-toggleable__label {background-color: #d4ebff;}#sk-container-id-1 input.sk-hidden--visually {border: 0;clip: rect(1px 1px 1px 1px);clip: rect(1px, 1px, 1px, 1px);height: 1px;margin: -1px;overflow: hidden;padding: 0;position: absolute;width: 1px;}#sk-container-id-1 div.sk-estimator {font-family: monospace;background-color: #f0f8ff;border: 1px dotted black;border-radius: 0.25em;box-sizing: border-box;margin-bottom: 0.5em;}#sk-container-id-1 div.sk-estimator:hover {background-color: #d4ebff;}#sk-container-id-1 div.sk-parallel-item::after {content: \"\";width: 100%;border-bottom: 1px solid gray;flex-grow: 1;}#sk-container-id-1 div.sk-label:hover label.sk-toggleable__label {background-color: #d4ebff;}#sk-container-id-1 div.sk-serial::before {content: \"\";position: absolute;border-left: 1px solid gray;box-sizing: border-box;top: 0;bottom: 0;left: 50%;z-index: 0;}#sk-container-id-1 div.sk-serial {display: flex;flex-direction: column;align-items: center;background-color: white;padding-right: 0.2em;padding-left: 0.2em;position: relative;}#sk-container-id-1 div.sk-item {position: relative;z-index: 1;}#sk-container-id-1 div.sk-parallel {display: flex;align-items: stretch;justify-content: center;background-color: white;position: relative;}#sk-container-id-1 div.sk-item::before, #sk-container-id-1 div.sk-parallel-item::before {content: \"\";position: absolute;border-left: 1px solid gray;box-sizing: border-box;top: 0;bottom: 0;left: 50%;z-index: -1;}#sk-container-id-1 div.sk-parallel-item {display: flex;flex-direction: column;z-index: 1;position: relative;background-color: white;}#sk-container-id-1 div.sk-parallel-item:first-child::after {align-self: flex-end;width: 50%;}#sk-container-id-1 div.sk-parallel-item:last-child::after {align-self: flex-start;width: 50%;}#sk-container-id-1 div.sk-parallel-item:only-child::after {width: 0;}#sk-container-id-1 div.sk-dashed-wrapped {border: 1px dashed gray;margin: 0 0.4em 0.5em 0.4em;box-sizing: border-box;padding-bottom: 0.4em;background-color: white;}#sk-container-id-1 div.sk-label label {font-family: monospace;font-weight: bold;display: inline-block;line-height: 1.2em;}#sk-container-id-1 div.sk-label-container {text-align: center;}#sk-container-id-1 div.sk-container {/* jupyter's `normalize.less` sets `[hidden] { display: none; }` but bootstrap.min.css set `[hidden] { display: none !important; }` so we also need the `!important` here to be able to override the default hidden behavior on the sphinx rendered scikit-learn.org. See: https://github.com/scikit-learn/scikit-learn/issues/21755 */display: inline-block !important;position: relative;}#sk-container-id-1 div.sk-text-repr-fallback {display: none;}</style><div id=\"sk-container-id-1\" class=\"sk-top-container\"><div class=\"sk-text-repr-fallback\"><pre>LinearRegression()</pre><b>In a Jupyter environment, please rerun this cell to show the HTML representation or trust the notebook. <br />On GitHub, the HTML representation is unable to render, please try loading this page with nbviewer.org.</b></div><div class=\"sk-container\" hidden><div class=\"sk-item\"><div class=\"sk-estimator sk-toggleable\"><input class=\"sk-toggleable__control sk-hidden--visually\" id=\"sk-estimator-id-1\" type=\"checkbox\" checked><label for=\"sk-estimator-id-1\" class=\"sk-toggleable__label sk-toggleable__label-arrow\">LinearRegression</label><div class=\"sk-toggleable__content\"><pre>LinearRegression()</pre></div></div></div></div></div>"
      ],
      "text/plain": [
       "LinearRegression()"
      ]
     },
     "execution_count": 9,
     "metadata": {},
     "output_type": "execute_result"
    }
   ],
   "source": [
    "x= fall_data[[\"m0\",\"m1\",\"m2\",\"m3\",\"m4\"]]\n",
    "y = fall_gens[\"amount\"]\n",
    "from sklearn.linear_model import LinearRegression\n",
    "\n",
    "lm = LinearRegression()\n",
    "lm.fit(x,y)"
   ]
  },
  {
   "cell_type": "code",
   "execution_count": 1,
   "metadata": {},
   "outputs": [],
   "source": [
    "import joblib"
   ]
  },
  {
   "cell_type": "code",
   "execution_count": 10,
   "metadata": {},
   "outputs": [
    {
     "data": {
      "text/plain": [
       "['../model/모델예측량만사용단순회귀계절9-11_r1.pkl']"
      ]
     },
     "execution_count": 10,
     "metadata": {},
     "output_type": "execute_result"
    }
   ],
   "source": [
    "\n",
    "joblib.dump(lm,\"../model/모델예측량만사용단순회귀계절10-11_r1.pkl\")"
   ]
  },
  {
   "cell_type": "markdown",
   "metadata": {},
   "source": [
    "# 10-30일껄로 예측 진행"
   ]
  },
  {
   "cell_type": "code",
   "execution_count": 4,
   "metadata": {},
   "outputs": [],
   "source": [
    "x_pred_ori = pd.read_csv(\"../data/gen_fcst_10_2023-11-02.csv\")\n",
    "x_pred_ori=x_pred_ori.drop([\"time\"],axis=1)"
   ]
  },
  {
   "cell_type": "code",
   "execution_count": 5,
   "metadata": {},
   "outputs": [],
   "source": [
    "x_pred_ori.columns = [\"m0\",\"m1\",\"m2\",\"m3\",\"m4\"]"
   ]
  },
  {
   "cell_type": "code",
   "execution_count": 7,
   "metadata": {},
   "outputs": [],
   "source": [
    "lm = joblib.load(\"../model/모델예측량만사용단순회귀계절10-11_r1.pkl\")"
   ]
  },
  {
   "cell_type": "code",
   "execution_count": 8,
   "metadata": {},
   "outputs": [],
   "source": [
    "pred = lm.predict(x_pred_ori)"
   ]
  },
  {
   "cell_type": "code",
   "execution_count": 42,
   "metadata": {},
   "outputs": [],
   "source": [
    "import numpy as np\n",
    "\n",
    "def testMSEnIncentive(pred):\n",
    "    realGens1030 = np.array([0, 0, 0, 0, 0, 0,\n",
    "                            0, 4, 20, 56,\n",
    "                            65, 79, 81, 75,\n",
    "                            62, 45, 22, 3, 0,\n",
    "                            0, 0, 0, 0, 0])    \n",
    "    \n",
    "    rss = np.power(pred - realGens1030, 2)\n",
    "    rss1 = rss[6:10]\n",
    "    rss2 = rss[10:14]\n",
    "    rss3 = rss[14:19]\n",
    "    mse1 = sum(rss1/len(rss1))\n",
    "    mse2 = sum(rss2/len(rss2))\n",
    "    mse3 = sum(rss3/len(rss3))\n",
    "    mse = [mse1,mse2,mse3]\n",
    "\n",
    "    score_df = abs(pred - realGens1030)*100/99\n",
    "    score = []\n",
    "    for idx, i in enumerate(score_df):\n",
    "        if i <=6:\n",
    "            score.append(realGens1030[idx] * 4)\n",
    "        elif (i <=8) & (i > 6):\n",
    "            score.append(realGens1030[idx] * 3)\n",
    "        else:\n",
    "            score.append(0)\n",
    "    score1 = score[6:10]\n",
    "    score2 = score[10:14]\n",
    "    score3 = score[14:19]\n",
    "    final_score = [score1,score2,score3]\n",
    "\n",
    "    return mse, final_score"
   ]
  },
  {
   "cell_type": "code",
   "execution_count": 9,
   "metadata": {},
   "outputs": [
    {
     "data": {
      "text/plain": [
       "array([-0.4044906 , -0.4044906 , -0.4044906 , -0.4044906 , -0.4044906 ,\n",
       "       -0.4044906 ,  1.79736311,  8.11522367, 21.95566785, 41.65715269,\n",
       "       59.1596245 , 70.45822059, 67.03093977, 62.6081862 , 51.56083932,\n",
       "       32.80954044, 13.37310034,  3.52794144,  0.97342736, -0.4044906 ,\n",
       "       -0.4044906 , -0.4044906 , -0.4044906 , -0.4044906 ])"
      ]
     },
     "execution_count": 9,
     "metadata": {},
     "output_type": "execute_result"
    }
   ],
   "source": [
    "pred "
   ]
  },
  {
   "cell_type": "code",
   "execution_count": 55,
   "metadata": {},
   "outputs": [
    {
     "data": {
      "text/plain": [
       "([39.407835249384284, 43.454038875626786, 18.09839819376539],\n",
       " [[0, 16, 60, 0], [260, 237, 243, 225], [248, 135, 88, 12, 0]])"
      ]
     },
     "execution_count": 55,
     "metadata": {},
     "output_type": "execute_result"
    }
   ],
   "source": [
    "testMSEnIncentive(pred)"
   ]
  }
 ],
 "metadata": {
  "kernelspec": {
   "display_name": "'conda'",
   "language": "python",
   "name": "conda"
  },
  "language_info": {
   "codemirror_mode": {
    "name": "ipython",
    "version": 3
   },
   "file_extension": ".py",
   "mimetype": "text/x-python",
   "name": "python",
   "nbconvert_exporter": "python",
   "pygments_lexer": "ipython3",
   "version": "3.10.0"
  },
  "orig_nbformat": 4
 },
 "nbformat": 4,
 "nbformat_minor": 2
}
