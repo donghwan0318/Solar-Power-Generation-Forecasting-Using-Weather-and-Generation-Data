{
 "cells": [
  {
   "cell_type": "code",
   "execution_count": 1,
   "metadata": {},
   "outputs": [],
   "source": [
    "import pandas as pd\n",
    "import numpy as np\n",
    "import statsmodels.api as sm\n",
    "# 모델\n",
    "from sklearn.metrics import mean_squared_error\n",
    "from sklearn.linear_model import LinearRegression"
   ]
  },
  {
   "cell_type": "code",
   "execution_count": 2,
   "metadata": {},
   "outputs": [],
   "source": [
    "gens = pd.read_csv(\"c:/Users/grace/Rdata/gens.csv\")\n",
    "p_gens = pd.read_csv(\"c:/Users/grace/Rdata/pred.csv\")\n",
    "wf = pd.read_csv(\"c:/Users/grace/Rdata/weather_forecast.csv\")"
   ]
  },
  {
   "cell_type": "code",
   "execution_count": 3,
   "metadata": {},
   "outputs": [],
   "source": [
    "# 발전량 예측량을 모델별로 분리해서 변수로 만들라고 분리하는거\n",
    "p_gens0 = p_gens.loc[(p_gens[\"model_id\"]==0) & (p_gens[\"round\"]==2)].reset_index()\n",
    "p_gens1 = p_gens.loc[(p_gens[\"model_id\"]==1) & (p_gens[\"round\"]==2)].reset_index()\n",
    "p_gens2 = p_gens.loc[(p_gens[\"model_id\"]==2) & (p_gens[\"round\"]==2)].reset_index()\n",
    "p_gens3 = p_gens.loc[(p_gens[\"model_id\"]==3) & (p_gens[\"round\"]==2)].reset_index()\n",
    "p_gens4 = p_gens.loc[(p_gens[\"model_id\"]==4) & (p_gens[\"round\"]==2)].reset_index()"
   ]
  },
  {
   "cell_type": "code",
   "execution_count": 4,
   "metadata": {},
   "outputs": [],
   "source": [
    "# 날씨 예측량을 데이터프레임으로 왜냐면 모델 train 시킬라고\n",
    "wf_round1 = wf[wf[\"round\"]==1]\n",
    "wf_round2 = wf[wf[\"round\"]==2]"
   ]
  },
  {
   "cell_type": "code",
   "execution_count": 5,
   "metadata": {},
   "outputs": [],
   "source": [
    "x_df = pd.DataFrame({\"m0\": p_gens0[\"amount\"],\"m1\": p_gens1[\"amount\"],\n",
    "              \"m2\": p_gens2[\"amount\"],\"m3\": p_gens3[\"amount\"],\n",
    "              \"m4\": p_gens4[\"amount\"], \"time\" : p_gens0[\"time\"]})\n",
    "y_df= gens[\"amount\"]"
   ]
  },
  {
   "cell_type": "code",
   "execution_count": 6,
   "metadata": {},
   "outputs": [],
   "source": [
    "xy_df = pd.merge(x_df,wf_round2,on=\"time\")\n",
    "xy_df = pd.merge(xy_df,gens,on=\"time\")"
   ]
  },
  {
   "cell_type": "code",
   "execution_count": 7,
   "metadata": {},
   "outputs": [],
   "source": [
    "# 'time' 열을 날짜 형식으로 변환\n",
    "xy_df['time'] = pd.to_datetime(xy_df['time'])\n",
    "\n",
    "# 월(month) 정보를 추출하여 'month' 열 생성\n",
    "xy_df['month'] = xy_df['time'].dt.month"
   ]
  },
  {
   "cell_type": "code",
   "execution_count": 8,
   "metadata": {},
   "outputs": [],
   "source": [
    "# 계절별로 데이터 분할\n",
    "xy_df1 = xy_df[(xy_df['month'] >= 6) & (xy_df['month'] <= 9)]  # 6월부터 9월까지: 여름\n",
    "xy_df2 = xy_df[(xy_df['month'] >= 10) & (xy_df['month'] <= 11)]  # 10월부터 11월까지: 가을\n",
    "xy_df3 = xy_df[(xy_df['month'] >= 12) | (xy_df['month'] <= 2)]  # 12월부터 2월까지: 겨울\n",
    "xy_df4 = xy_df[(xy_df['month'] >= 3) & (xy_df['month'] <= 5)]  # 3월부터 5월까지: 봄"
   ]
  },
  {
   "cell_type": "code",
   "execution_count": 9,
   "metadata": {},
   "outputs": [
    {
     "name": "stdout",
     "output_type": "stream",
     "text": [
      "여름 - 회귀 계수 (기울기): [[ 0.69375709  0.14283364  0.10938227 -0.04888753  0.11658289]]\n",
      "여름 - 절편: [0.25099906]\n",
      "가을 - 회귀 계수 (기울기): [[ 0.62951579  0.37375954 -0.03560792  0.07312076  0.04010905]]\n",
      "가을 - 절편: [-0.35033527]\n",
      "겨울 - 회귀 계수 (기울기): [[ 0.85412137  0.33517265 -0.06400474 -0.09982774 -0.00579211]]\n",
      "겨울 - 절편: [-1.06886204]\n",
      "봄 - 회귀 계수 (기울기): [[ 0.86436922  0.01227634 -0.08994772  0.14834716  0.042448  ]]\n",
      "봄 - 절편: [-0.15396005]\n"
     ]
    }
   ],
   "source": [
    "# 시간대별로 독립 변수(X)와 종속 변수(y) 설정\n",
    "\n",
    "# 여름 데이터\n",
    "X1 = xy_df1[['m0', 'm1', 'm2', 'm3', 'm4']]\n",
    "y1 = xy_df1[['amount']]\n",
    "\n",
    "# 가을 데이터\n",
    "X2 = xy_df2[['m0', 'm1', 'm2', 'm3', 'm4']]\n",
    "y2 = xy_df2[['amount']]\n",
    "\n",
    "# 겨울 데이터\n",
    "X3 = xy_df3[['m0', 'm1', 'm2', 'm3', 'm4']]\n",
    "y3 = xy_df3[['amount']]\n",
    "\n",
    "# 봄 데이터\n",
    "X4 = xy_df4[['m0', 'm1', 'm2', 'm3', 'm4']]\n",
    "y4 = xy_df4[['amount']]\n",
    "\n",
    "# 데이터셋 리스트\n",
    "seasonal_datasets = [(X1, y1), (X2, y2), (X3, y3), (X4, y4)]\n",
    "\n",
    "# 선형 회귀 모델 리스트\n",
    "seasonal_linear_models = []\n",
    "\n",
    "# 계절별 회귀 분석 수행\n",
    "for X, y in seasonal_datasets:\n",
    "    lr = LinearRegression()\n",
    "    lr.fit(X, y)\n",
    "    seasonal_linear_models.append(lr)\n",
    "\n",
    "# 결과 출력\n",
    "for i, lr in enumerate(seasonal_linear_models):\n",
    "    season = ['여름', '가을', '겨울', '봄'][i]\n",
    "    print(f\"{season} - 회귀 계수 (기울기):\", lr.coef_)\n",
    "    print(f\"{season} - 절편:\", lr.intercept_)\n"
   ]
  },
  {
   "cell_type": "code",
   "execution_count": 10,
   "metadata": {},
   "outputs": [
    {
     "data": {
      "image/png": "[encoded data removed]",
      "text/plain": [
       "<Figure size 640x480 with 1 Axes>"
      ]
     },
     "metadata": {},
     "output_type": "display_data"
    }
   ],
   "source": [
    "import matplotlib.pyplot as plt\n",
    "import numpy as np\n",
    "\n",
    "# 각 계절의 독립 변수 이름\n",
    "independent_variables = ['m0', 'm1', 'm2', 'm3', 'm4']\n",
    "\n",
    "# 계절별 회귀 계수\n",
    "coefficients_summer = [0.69375709, 0.14283364, 0.10938227, -0.04888753, 0.11658289]\n",
    "coefficients_fall = [0.62951579, 0.37375954, -0.03560792, 0.07312076, 0.04010905]\n",
    "coefficients_winter = [0.85412137, 0.33517265, -0.06400474, -0.09982774, -0.00579211]\n",
    "coefficients_spring = [0.86436922, 0.01227634, -0.08994772,  0.14834716,  0.042448]\n",
    "\n",
    "# 계절 목록\n",
    "seasons = ['Summer', 'Fall', 'Winter', 'Spring']\n",
    "\n",
    "# 독립 변수 개수\n",
    "num_variables = len(independent_variables)\n",
    "\n",
    "# 막대 그래프의 x 좌표\n",
    "x = np.arange(num_variables)\n",
    "\n",
    "# 막대 그래프 폭\n",
    "bar_width = 0.2\n",
    "\n",
    "# 막대 그래프 생성\n",
    "fig, ax = plt.subplots()\n",
    "\n",
    "for i, season in enumerate(seasons):\n",
    "    coefficients = [coefficients_summer, coefficients_fall, coefficients_winter, coefficients_spring][i]\n",
    "    ax.bar(x + i * bar_width, coefficients, bar_width, label=season)\n",
    "\n",
    "# x 축 레이블 설정\n",
    "ax.set_xticks(x + bar_width * (len(seasons) - 1) / 2)\n",
    "ax.set_xticklabels(independent_variables)\n",
    "\n",
    "# 범례 추가\n",
    "ax.legend()\n",
    "\n",
    "# 그래프 제목 및 축 레이블 설정\n",
    "plt.title('Regression Coefficients by Season')\n",
    "plt.xlabel('Independent Variables')\n",
    "plt.ylabel('Coefficient Value')\n",
    "\n",
    "# 그래프 표시\n",
    "plt.show()\n"
   ]
  },
  {
   "cell_type": "code",
   "execution_count": 13,
   "metadata": {},
   "outputs": [],
   "source": [
    "import pandas as pd\n",
    "\n",
    "# 계절별 회귀 계수 데이터 생성\n",
    "season_coef = {\n",
    "    'Independent Variable': ['m0', 'm1', 'm2', 'm3', 'm4'],\n",
    "    'Summer Coefficients': [0.69375709, 0.14283364, 0.10938227, -0.04888753, 0.11658289],\n",
    "    'Fall Coefficients': [0.62951579, 0.37375954, -0.03560792, 0.07312076, 0.04010905],\n",
    "    'Winter Coefficients': [0.85412137, 0.33517265, -0.06400474, -0.09982774, -0.00579211],\n",
    "    'Spring Coefficients': [0.86436922, 0.01227634, -0.08994772,  0.14834716,  0.042448]\n",
    "}\n",
    "\n",
    "# 데이터프레임 생성\n",
    "sc = pd.DataFrame(season_coef)\n",
    "\n",
    "# 데이터프레임을 엑셀 파일로 저장\n",
    "sc.to_csv('seasonal_coefficients.csv', index=False)\n"
   ]
  },
  {
   "cell_type": "code",
   "execution_count": 14,
   "metadata": {},
   "outputs": [
    {
     "data": {
      "text/html": [
       "<div>\n",
       "<style scoped>\n",
       "    .dataframe tbody tr th:only-of-type {\n",
       "        vertical-align: middle;\n",
       "    }\n",
       "\n",
       "    .dataframe tbody tr th {\n",
       "        vertical-align: top;\n",
       "    }\n",
       "\n",
       "    .dataframe thead th {\n",
       "        text-align: right;\n",
       "    }\n",
       "</style>\n",
       "<table border=\"1\" class=\"dataframe\">\n",
       "  <thead>\n",
       "    <tr style=\"text-align: right;\">\n",
       "      <th></th>\n",
       "      <th>Independent Variable</th>\n",
       "      <th>Summer Coefficients</th>\n",
       "      <th>Fall Coefficients</th>\n",
       "      <th>Winter Coefficients</th>\n",
       "      <th>Spring Coefficients</th>\n",
       "    </tr>\n",
       "  </thead>\n",
       "  <tbody>\n",
       "    <tr>\n",
       "      <th>0</th>\n",
       "      <td>m0</td>\n",
       "      <td>0.693757</td>\n",
       "      <td>0.629516</td>\n",
       "      <td>0.854121</td>\n",
       "      <td>0.864369</td>\n",
       "    </tr>\n",
       "    <tr>\n",
       "      <th>1</th>\n",
       "      <td>m1</td>\n",
       "      <td>0.142834</td>\n",
       "      <td>0.373760</td>\n",
       "      <td>0.335173</td>\n",
       "      <td>0.012276</td>\n",
       "    </tr>\n",
       "    <tr>\n",
       "      <th>2</th>\n",
       "      <td>m2</td>\n",
       "      <td>0.109382</td>\n",
       "      <td>-0.035608</td>\n",
       "      <td>-0.064005</td>\n",
       "      <td>-0.089948</td>\n",
       "    </tr>\n",
       "    <tr>\n",
       "      <th>3</th>\n",
       "      <td>m3</td>\n",
       "      <td>-0.048888</td>\n",
       "      <td>0.073121</td>\n",
       "      <td>-0.099828</td>\n",
       "      <td>0.148347</td>\n",
       "    </tr>\n",
       "    <tr>\n",
       "      <th>4</th>\n",
       "      <td>m4</td>\n",
       "      <td>0.116583</td>\n",
       "      <td>0.040109</td>\n",
       "      <td>-0.005792</td>\n",
       "      <td>0.042448</td>\n",
       "    </tr>\n",
       "  </tbody>\n",
       "</table>\n",
       "</div>"
      ],
      "text/plain": [
       "  Independent Variable  Summer Coefficients  Fall Coefficients  \\\n",
       "0                   m0             0.693757           0.629516   \n",
       "1                   m1             0.142834           0.373760   \n",
       "2                   m2             0.109382          -0.035608   \n",
       "3                   m3            -0.048888           0.073121   \n",
       "4                   m4             0.116583           0.040109   \n",
       "\n",
       "   Winter Coefficients  Spring Coefficients  \n",
       "0             0.854121             0.864369  \n",
       "1             0.335173             0.012276  \n",
       "2            -0.064005            -0.089948  \n",
       "3            -0.099828             0.148347  \n",
       "4            -0.005792             0.042448  "
      ]
     },
     "execution_count": 14,
     "metadata": {},
     "output_type": "execute_result"
    }
   ],
   "source": [
    "sc"
   ]
  },
  {
   "cell_type": "code",
   "execution_count": 15,
   "metadata": {},
   "outputs": [],
   "source": [
    "import pandas as pd\n",
    "import numpy as np\n",
    "\n",
    "# 데이터를 불러옴\n",
    "x_pred_ori = pd.read_csv(\"c:/Users/grace/Rdata/gen_forecasts/gen_fcst_17_2023-10-30.csv\")  # 데이터 파일 경로에 맞게 수정\n"
   ]
  },
  {
   "cell_type": "code",
   "execution_count": 16,
   "metadata": {},
   "outputs": [],
   "source": [
    "# 가중치 설정 (계절별 가중치를 해당 계절에 따라 가져오기)\n",
    "\n",
    "summer_weights = [0.69375709, 0.14283364, 0.10938227, -0.04888753, 0.11658289]\n",
    "fall_weights = [0.62951579, 0.37375954, -0.03560792, 0.07312076, 0.04010905]\n",
    "winter_weights = [0.85412137, 0.33517265, -0.06400474, -0.09982774, -0.00579211]\n",
    "spring_weights = [0.86436922, 0.01227634, -0.08994772,  0.14834716,  0.042448]\n",
    "\n",
    "x_pred_ori['time'] = pd.to_datetime(x_pred_ori['time'])  # 날짜 및 시간 열을 날짜 형식으로 변환\n",
    "x_pred_ori['month'] = x_pred_ori['time'].dt.month  # 계절 정보를 추출하기 위해 'month' 열을 생성"
   ]
  },
  {
   "cell_type": "code",
   "execution_count": 17,
   "metadata": {},
   "outputs": [
    {
     "name": "stdout",
     "output_type": "stream",
     "text": [
      "[ 0.          0.          0.          0.          0.          0.\n",
      "  1.2233626   6.87611848 25.70297206 47.63067566 64.5883804  73.46202962\n",
      " 76.19606245 70.10700697 57.18220222 39.41234509 14.83475859  3.77493732\n",
      "  1.33626128  0.          0.          0.          0.          0.        ]\n"
     ]
    }
   ],
   "source": [
    "# 각 계절별로 데이터 분할\n",
    "x_pred1 = x_pred_ori[(x_pred_ori['month'] >= 6) & (x_pred_ori['month'] <= 8)]\n",
    "x_pred2 = x_pred_ori[(x_pred_ori['month'] >= 9) & (x_pred_ori['month'] <= 11)]\n",
    "x_pred3 = x_pred_ori[(x_pred_ori['month'] >= 12) & (x_pred_ori['month'] <= 2)]\n",
    "x_pred4 = x_pred_ori[(x_pred_ori['month'] >= 3) & (x_pred_ori['month'] <= 5)]\n",
    "\n",
    "# 각 계절별로 모델별로 가중치를 적용하여 새로운 예측값 계산\n",
    "def calculate_weighted_predictions(data, weights):\n",
    "    data = data.copy()  # 데이터프레임 복사\n",
    "    weighted_predictions = np.zeros(len(data))  # 시간대별 가중 예측값을 저장할 배열 초기화\n",
    "    for i in range(5):\n",
    "        col_name = 'model' + str(i+1)\n",
    "        data[col_name + '_weighted'] = data[col_name] * weights[i]\n",
    "        weighted_predictions += data[col_name + '_weighted']\n",
    "    return weighted_predictions\n",
    "\n",
    "weighted_predictions1 = calculate_weighted_predictions(x_pred1, summer_weights)\n",
    "weighted_predictions2 = calculate_weighted_predictions(x_pred2, fall_weights)\n",
    "weighted_predictions3 = calculate_weighted_predictions(x_pred3, winter_weights)\n",
    "weighted_predictions4 = calculate_weighted_predictions(x_pred3, spring_weights)\n",
    "\n",
    "# 새로운 예측값을 합치기\n",
    "final_predictions = np.concatenate([weighted_predictions1, weighted_predictions2, weighted_predictions3, weighted_predictions4])\n",
    "\n",
    "# 최종 예측값 출력\n",
    "print(final_predictions)"
   ]
  },
  {
   "cell_type": "code",
   "execution_count": 18,
   "metadata": {},
   "outputs": [],
   "source": [
    "import numpy as np\n",
    "\n",
    "def testMSEnIncentive(pred):\n",
    "    realGens1030 = np.array([0, 0, 0, 0, 0, 0,\n",
    "                            0, 4, 20, 56,\n",
    "                            65, 79, 81, 75,\n",
    "                            62, 45, 22, 3, 0,\n",
    "                            0, 0, 0, 0, 0])    \n",
    "    \n",
    "    rss = np.power(pred - realGens1030, 2)\n",
    "    rss1 = rss[6:10]\n",
    "    rss2 = rss[10:14]\n",
    "    rss3 = rss[14:19]\n",
    "    mse1 = sum(rss1/len(rss1))\n",
    "    mse2 = sum(rss2/len(rss2))\n",
    "    mse3 = sum(rss3/len(rss3))\n",
    "    mse = [mse1,mse2,mse3]\n",
    "\n",
    "    score_df = abs(pred - realGens1030)*100/99\n",
    "    score = []\n",
    "    for idx, i in enumerate(score_df):\n",
    "        if i <=6:\n",
    "            score.append(realGens1030[idx] * 4)\n",
    "        elif (i <=8) & (i > 6):\n",
    "            score.append(realGens1030[idx] * 3)\n",
    "        else:\n",
    "            score.append(0)\n",
    "    score1 = score[6:10]\n",
    "    score2 = score[10:14]\n",
    "    score3 = score[14:19]\n",
    "    final_score = [score1,score2,score3]\n",
    "\n",
    "    return mse, final_score"
   ]
  },
  {
   "cell_type": "code",
   "execution_count": 19,
   "metadata": {},
   "outputs": [
    {
     "data": {
      "text/plain": [
       "([28.084538457945307, 19.464435855394555, 21.63197386878067],\n",
       " [[0, 16, 80, 0], [260, 316, 324, 300], [248, 180, 66, 12, 0]])"
      ]
     },
     "execution_count": 19,
     "metadata": {},
     "output_type": "execute_result"
    }
   ],
   "source": [
    "testMSEnIncentive(final_predictions)"
   ]
  }
 ],
 "metadata": {
  "kernelspec": {
   "display_name": "Python 3",
   "language": "python",
   "name": "python3"
  },
  "language_info": {
   "codemirror_mode": {
    "name": "ipython",
    "version": 3
   },
   "file_extension": ".py",
   "mimetype": "text/x-python",
   "name": "python",
   "nbconvert_exporter": "python",
   "pygments_lexer": "ipython3",
   "version": "3.11.5"
  },
  "orig_nbformat": 4
 },
 "nbformat": 4,
 "nbformat_minor": 2
}
