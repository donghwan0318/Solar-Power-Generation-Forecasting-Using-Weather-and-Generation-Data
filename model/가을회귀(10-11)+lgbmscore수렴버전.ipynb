{
 "cells": [
  {
   "cell_type": "code",
   "execution_count": 1,
   "metadata": {},
   "outputs": [],
   "source": [
    "import pandas as pd\n",
    "import numpy as np\n",
    "import statsmodels.api as sm\n",
    "# 모델\n",
    "from sklearn.metrics import mean_squared_error\n",
    "from sklearn.linear_model import LinearRegression"
   ]
  },
  {
   "cell_type": "code",
   "execution_count": 2,
   "metadata": {},
   "outputs": [],
   "source": [
    "## test data set 만드는 함수\n",
    "def make_test_xy(wf,gf):\n",
    "    gf.columns = [\"time\",\"m0\",\"m1\",\"m2\",\"m3\",\"m4\"]\n",
    "    train = pd.merge(gf,wf,on=\"time\")\n",
    "    train[\"time\"] = pd.to_datetime(train[\"time\"])\n",
    "    train[\"month\"]=train[\"time\"].dt.month\n",
    "    train[\"day\"]=train[\"time\"].dt.day\n",
    "    train[\"hour\"]=train[\"time\"].dt.hour\n",
    "    \n",
    "    train_1 = train[(train[\"hour\"]<=10) & (train[\"hour\"]>=7)]\n",
    "    train_2 = train[(train[\"hour\"]<=14) & (train[\"hour\"]>=11)]\n",
    "    train_3 = train[(train[\"hour\"]<=19) & (train[\"hour\"]>=15)]\n",
    "    \n",
    "    train11 = train_1[[\"m0\",\"m1\",\"m2\",\"m3\",\"uv_idx\",\"elevation\"]]\n",
    "    train12 = train_2[[\"m0\",\"m1\",\"m2\",\"m3\",\"uv_idx\",\"elevation\"]]\n",
    "    train13 = train_3[[\"m0\",\"m1\",\"m2\",\"m3\",\"uv_idx\",\"elevation\"]]\n",
    "    train21 = train_1.drop([\"m0\",\"m1\",\"m2\",\"m3\",\"m4\",\"uv_idx\",\"elevation\",\"time\",\"hour\"],axis=1)\n",
    "    train22 = train_2.drop([\"m0\",\"m1\",\"m2\",\"m3\",\"m4\",\"uv_idx\",\"elevation\",\"time\",\"hour\"],axis=1)\n",
    "    train23 = train_3.drop([\"m0\",\"m1\",\"m2\",\"m3\",\"m4\",\"uv_idx\",\"elevation\",\"time\",\"hour\"],axis=1)\n",
    "    \n",
    "    return train11,train12,train13,train21,train22,train23"
   ]
  },
  {
   "cell_type": "markdown",
   "metadata": {},
   "source": [
    "#  예측 진행"
   ]
  },
  {
   "cell_type": "code",
   "execution_count": 9,
   "metadata": {},
   "outputs": [],
   "source": [
    "#실제값 정의\n",
    "real_dict = {\"1025\" : [0, 0, 0, 0, 0, 0,\n",
    "                      0, 10, 31, 54, 70, 72, 78, 73, 63, 40, 20, 3, 0,\n",
    "                      0, 0, 0, 0, 0],\n",
    "             \"1026\" : [0, 0, 0, 0, 0, 0,\n",
    "                      1, 3, 11, 40, 61, 52, 75, 61, 62, 40, 18, 2, 0,\n",
    "                      0, 0, 0, 0, 0],\n",
    "             \"1027\" : [0, 0, 0, 0, 0, 0,\n",
    "                      1, 9, 36, 46, 53, 74, 89, 81, 64, 54, 23, 4, 0,\n",
    "                      0, 0, 0, 0, 0],\n",
    "             \"1028\" : [0, 0, 0, 0, 0, 0,\n",
    "                      0, 5, 29, 56, 67, 82, 78, 72, 63, 46, 17, 3, 0,\n",
    "                      0, 0, 0, 0, 0],\n",
    "             \"1029\" : [0, 0, 0, 0, 0, 0,\n",
    "                      0, 4, 20, 56, 66, 76, 53, 57, 66, 42, 20, 2, 0,\n",
    "                      0, 0, 0, 0, 0],\n",
    "             \"1030\" : [0, 0, 0, 0, 0, 0,\n",
    "                      0, 4, 20, 56, 65, 79, 81, 75, 62, 45, 22, 3, 0,\n",
    "                      0, 0, 0, 0, 0],\n",
    "             \"1031\" : [0, 0, 0, 0, 0, 0,\n",
    "                      0, 4, 8, 22, 37, 76, 73, 75, 58, 44, 22, 4, 0,\n",
    "                      0, 0, 0, 0, 0],\n",
    "             \"1101\" : [0, 0, 0, 0, 0, 0,\n",
    "                       0, 6, 30, 51, 58, 68, 68, 69, 55, 38, 18, 1, 0,\n",
    "                       0, 0, 0, 0, 0],\n",
    "             \"1102\" : [0, 0, 0, 0, 0, 0,\n",
    "                       0, 4, 32, 46, 71, 76, 79, 73, 64, 44, 22, 4, 0,\n",
    "                       0, 0, 0, 0, 0]}"
   ]
  },
  {
   "cell_type": "code",
   "execution_count": 3,
   "metadata": {},
   "outputs": [],
   "source": [
    "gens = pd.read_csv(\"../gens.csv\")\n",
    "gens[\"time\"] = pd.to_datetime(gens[\"time\"])\n",
    "gens[\"month\"] = gens[\"time\"].dt.month"
   ]
  },
  {
   "cell_type": "code",
   "execution_count": 4,
   "metadata": {},
   "outputs": [
    {
     "data": {
      "text/html": [
       "<div>\n",
       "<style scoped>\n",
       "    .dataframe tbody tr th:only-of-type {\n",
       "        vertical-align: middle;\n",
       "    }\n",
       "\n",
       "    .dataframe tbody tr th {\n",
       "        vertical-align: top;\n",
       "    }\n",
       "\n",
       "    .dataframe thead th {\n",
       "        text-align: right;\n",
       "    }\n",
       "</style>\n",
       "<table border=\"1\" class=\"dataframe\">\n",
       "  <thead>\n",
       "    <tr style=\"text-align: right;\">\n",
       "      <th></th>\n",
       "      <th>time</th>\n",
       "      <th>amount</th>\n",
       "      <th>month</th>\n",
       "    </tr>\n",
       "  </thead>\n",
       "  <tbody>\n",
       "    <tr>\n",
       "      <th>1775</th>\n",
       "      <td>2022-09-01 00:00:00+09:00</td>\n",
       "      <td>0.0</td>\n",
       "      <td>9</td>\n",
       "    </tr>\n",
       "    <tr>\n",
       "      <th>1776</th>\n",
       "      <td>2022-09-01 01:00:00+09:00</td>\n",
       "      <td>0.0</td>\n",
       "      <td>9</td>\n",
       "    </tr>\n",
       "    <tr>\n",
       "      <th>1777</th>\n",
       "      <td>2022-09-01 02:00:00+09:00</td>\n",
       "      <td>0.0</td>\n",
       "      <td>9</td>\n",
       "    </tr>\n",
       "    <tr>\n",
       "      <th>1778</th>\n",
       "      <td>2022-09-01 03:00:00+09:00</td>\n",
       "      <td>0.0</td>\n",
       "      <td>9</td>\n",
       "    </tr>\n",
       "    <tr>\n",
       "      <th>1779</th>\n",
       "      <td>2022-09-01 04:00:00+09:00</td>\n",
       "      <td>0.0</td>\n",
       "      <td>9</td>\n",
       "    </tr>\n",
       "    <tr>\n",
       "      <th>...</th>\n",
       "      <td>...</td>\n",
       "      <td>...</td>\n",
       "      <td>...</td>\n",
       "    </tr>\n",
       "    <tr>\n",
       "      <th>11611</th>\n",
       "      <td>2023-10-15 20:00:00+09:00</td>\n",
       "      <td>0.0</td>\n",
       "      <td>10</td>\n",
       "    </tr>\n",
       "    <tr>\n",
       "      <th>11612</th>\n",
       "      <td>2023-10-15 21:00:00+09:00</td>\n",
       "      <td>0.0</td>\n",
       "      <td>10</td>\n",
       "    </tr>\n",
       "    <tr>\n",
       "      <th>11613</th>\n",
       "      <td>2023-10-15 22:00:00+09:00</td>\n",
       "      <td>0.0</td>\n",
       "      <td>10</td>\n",
       "    </tr>\n",
       "    <tr>\n",
       "      <th>11614</th>\n",
       "      <td>2023-10-15 23:00:00+09:00</td>\n",
       "      <td>0.0</td>\n",
       "      <td>10</td>\n",
       "    </tr>\n",
       "    <tr>\n",
       "      <th>11615</th>\n",
       "      <td>2023-10-16 00:00:00+09:00</td>\n",
       "      <td>0.0</td>\n",
       "      <td>10</td>\n",
       "    </tr>\n",
       "  </tbody>\n",
       "</table>\n",
       "<p>3265 rows × 3 columns</p>\n",
       "</div>"
      ],
      "text/plain": [
       "                           time  amount  month\n",
       "1775  2022-09-01 00:00:00+09:00     0.0      9\n",
       "1776  2022-09-01 01:00:00+09:00     0.0      9\n",
       "1777  2022-09-01 02:00:00+09:00     0.0      9\n",
       "1778  2022-09-01 03:00:00+09:00     0.0      9\n",
       "1779  2022-09-01 04:00:00+09:00     0.0      9\n",
       "...                         ...     ...    ...\n",
       "11611 2023-10-15 20:00:00+09:00     0.0     10\n",
       "11612 2023-10-15 21:00:00+09:00     0.0     10\n",
       "11613 2023-10-15 22:00:00+09:00     0.0     10\n",
       "11614 2023-10-15 23:00:00+09:00     0.0     10\n",
       "11615 2023-10-16 00:00:00+09:00     0.0     10\n",
       "\n",
       "[3265 rows x 3 columns]"
      ]
     },
     "execution_count": 4,
     "metadata": {},
     "output_type": "execute_result"
    }
   ],
   "source": [
    "gens[gens[\"month\"].isin([9,10,11])]"
   ]
  },
  {
   "cell_type": "code",
   "execution_count": 5,
   "metadata": {},
   "outputs": [],
   "source": [
    "import seaborn as sns"
   ]
  },
  {
   "cell_type": "code",
   "execution_count": 6,
   "metadata": {},
   "outputs": [],
   "source": [
    "# 예측에 사용할 데이터 셋 불러오기 \n",
    "x_pred_ori = pd.read_csv(\"../data/gen_fcst_10_2023-10-31.csv\")\n",
    "x_pred_wf = pd.read_csv(\"../data/weather_forecasts/wf10_2023-10-31.csv\")"
   ]
  },
  {
   "cell_type": "code",
   "execution_count": 10,
   "metadata": {},
   "outputs": [],
   "source": [
    "day = real_dict[\"1031\"]"
   ]
  },
  {
   "cell_type": "code",
   "execution_count": 11,
   "metadata": {},
   "outputs": [],
   "source": [
    "# 함수에 넣어서 데이터셋 분리\n",
    "test11,test12,test13,test21,test22,test23 = make_test_xy(x_pred_wf,x_pred_ori)"
   ]
  },
  {
   "cell_type": "code",
   "execution_count": 12,
   "metadata": {},
   "outputs": [],
   "source": [
    "import joblib"
   ]
  },
  {
   "cell_type": "code",
   "execution_count": 13,
   "metadata": {},
   "outputs": [
    {
     "name": "stderr",
     "output_type": "stream",
     "text": [
      "c:\\Users\\admin\\AppData\\Local\\Programs\\Python\\Python310\\lib\\site-packages\\sklearn\\base.py:348: InconsistentVersionWarning: Trying to unpickle estimator LinearRegression from version 1.2.0 when using version 1.3.2. This might lead to breaking code or invalid results. Use at your own risk. For more info please refer to:\n",
      "https://scikit-learn.org/stable/model_persistence.html#security-maintainability-limitations\n",
      "  warnings.warn(\n"
     ]
    }
   ],
   "source": [
    "model11=joblib.load(\"../model/시간1회귀fitting_season9-11_r1.pkl\")\n",
    "model12=joblib.load(\"../model/시간2회귀fitting_season9-11_r1.pkl\")\n",
    "model13=joblib.load(\"../model/시간3회귀fitting_season9-11_r1.pkl\")\n",
    "# 예측 진행 (1차 모델링 y_hat)\n",
    "y_pred11=model11.predict(test11)\n",
    "y_pred12=model12.predict(test12)\n",
    "y_pred13=model13.predict(test13)\n",
    "model21=joblib.load(\"../model/시간1잔차fitting_season9-11_r1.pkl\")\n",
    "model22=joblib.load(\"../model/시간2잔차fitting_season9-11_r1.pkl\")\n",
    "model23=joblib.load(\"../model/시간3잔차fitting_season9-11_r1.pkl\")\n",
    "y_pred21 = model21.predict(test21)\n",
    "y_pred22 = model22.predict(test22)\n",
    "y_pred23 = model23.predict(test23)\n",
    "result1 = y_pred11+y_pred21\n",
    "result2 = y_pred12+y_pred22\n",
    "result3 = y_pred13+y_pred23\n",
    "result = np.concatenate((result1,result2,result3))\n",
    "res1 = result"
   ]
  },
  {
   "cell_type": "code",
   "execution_count": 14,
   "metadata": {},
   "outputs": [
    {
     "data": {
      "text/plain": [
       "array([-5.76939092e-02,  6.44917541e+00,  2.63923686e+01,  5.16400589e+01,\n",
       "        6.90145273e+01,  7.82816194e+01,  7.50092600e+01,  7.18578439e+01,\n",
       "        5.73817330e+01,  3.75224476e+01,  2.06311356e+01,  1.84776832e+00,\n",
       "        2.79279719e-01])"
      ]
     },
     "execution_count": 14,
     "metadata": {},
     "output_type": "execute_result"
    }
   ],
   "source": [
    "res1"
   ]
  },
  {
   "cell_type": "code",
   "execution_count": 15,
   "metadata": {},
   "outputs": [],
   "source": [
    "# 예측에 사용할 데이터 셋 불러오기 \n",
    "x_pred_ori = pd.read_csv(\"../data/gen_fcst_17_2023-10-31.csv\")\n",
    "x_pred_wf = pd.read_csv(\"../data/weather_forecasts/wf17_2023-10-31.csv\")\n",
    "# 함수에 넣어서 데이터셋 분리\n",
    "test11,test12,test13,test21,test22,test23 = make_test_xy(x_pred_wf,x_pred_ori)"
   ]
  },
  {
   "cell_type": "code",
   "execution_count": 17,
   "metadata": {},
   "outputs": [
    {
     "name": "stderr",
     "output_type": "stream",
     "text": [
      "c:\\Users\\admin\\AppData\\Local\\Programs\\Python\\Python310\\lib\\site-packages\\sklearn\\base.py:348: InconsistentVersionWarning: Trying to unpickle estimator LinearRegression from version 1.2.0 when using version 1.3.2. This might lead to breaking code or invalid results. Use at your own risk. For more info please refer to:\n",
      "https://scikit-learn.org/stable/model_persistence.html#security-maintainability-limitations\n",
      "  warnings.warn(\n"
     ]
    },
    {
     "ename": "FileNotFoundError",
     "evalue": "[Errno 2] No such file or directory: '../model/시간3잔차fitting_season9-11_r2.pkl'",
     "output_type": "error",
     "traceback": [
      "\u001b[1;31m---------------------------------------------------------------------------\u001b[0m",
      "\u001b[1;31mFileNotFoundError\u001b[0m                         Traceback (most recent call last)",
      "\u001b[1;32md:\\skku\\3학년\\2학기\\32기피셋\\주제분석\\code\\가을회귀+lgbmscore수렴버전.ipynb Cell 15\u001b[0m line \u001b[0;36m1\n\u001b[0;32m      <a href='vscode-notebook-cell:/d%3A/skku/3%ED%95%99%EB%85%84/2%ED%95%99%EA%B8%B0/32%EA%B8%B0%ED%94%BC%EC%85%8B/%EC%A3%BC%EC%A0%9C%EB%B6%84%EC%84%9D/code/%EA%B0%80%EC%9D%84%ED%9A%8C%EA%B7%80%2Blgbmscore%EC%88%98%EB%A0%B4%EB%B2%84%EC%A0%84.ipynb#X16sZmlsZQ%3D%3D?line=7'>8</a>\u001b[0m model21\u001b[39m=\u001b[39mjoblib\u001b[39m.\u001b[39mload(\u001b[39m\"\u001b[39m\u001b[39m../model/시간1잔차fitting_season9-11_r2.pkl\u001b[39m\u001b[39m\"\u001b[39m)\n\u001b[0;32m      <a href='vscode-notebook-cell:/d%3A/skku/3%ED%95%99%EB%85%84/2%ED%95%99%EA%B8%B0/32%EA%B8%B0%ED%94%BC%EC%85%8B/%EC%A3%BC%EC%A0%9C%EB%B6%84%EC%84%9D/code/%EA%B0%80%EC%9D%84%ED%9A%8C%EA%B7%80%2Blgbmscore%EC%88%98%EB%A0%B4%EB%B2%84%EC%A0%84.ipynb#X16sZmlsZQ%3D%3D?line=8'>9</a>\u001b[0m model22\u001b[39m=\u001b[39mjoblib\u001b[39m.\u001b[39mload(\u001b[39m\"\u001b[39m\u001b[39m../model/시간2잔차fitting_season9-11_r2.pkl\u001b[39m\u001b[39m\"\u001b[39m)\n\u001b[1;32m---> <a href='vscode-notebook-cell:/d%3A/skku/3%ED%95%99%EB%85%84/2%ED%95%99%EA%B8%B0/32%EA%B8%B0%ED%94%BC%EC%85%8B/%EC%A3%BC%EC%A0%9C%EB%B6%84%EC%84%9D/code/%EA%B0%80%EC%9D%84%ED%9A%8C%EA%B7%80%2Blgbmscore%EC%88%98%EB%A0%B4%EB%B2%84%EC%A0%84.ipynb#X16sZmlsZQ%3D%3D?line=9'>10</a>\u001b[0m model23\u001b[39m=\u001b[39mjoblib\u001b[39m.\u001b[39;49mload(\u001b[39m\"\u001b[39;49m\u001b[39m../model/시간3잔차fitting_season9-11_r2.pkl\u001b[39;49m\u001b[39m\"\u001b[39;49m)\n\u001b[0;32m     <a href='vscode-notebook-cell:/d%3A/skku/3%ED%95%99%EB%85%84/2%ED%95%99%EA%B8%B0/32%EA%B8%B0%ED%94%BC%EC%85%8B/%EC%A3%BC%EC%A0%9C%EB%B6%84%EC%84%9D/code/%EA%B0%80%EC%9D%84%ED%9A%8C%EA%B7%80%2Blgbmscore%EC%88%98%EB%A0%B4%EB%B2%84%EC%A0%84.ipynb#X16sZmlsZQ%3D%3D?line=10'>11</a>\u001b[0m y_pred21 \u001b[39m=\u001b[39m model21\u001b[39m.\u001b[39mpredict(test21)\n\u001b[0;32m     <a href='vscode-notebook-cell:/d%3A/skku/3%ED%95%99%EB%85%84/2%ED%95%99%EA%B8%B0/32%EA%B8%B0%ED%94%BC%EC%85%8B/%EC%A3%BC%EC%A0%9C%EB%B6%84%EC%84%9D/code/%EA%B0%80%EC%9D%84%ED%9A%8C%EA%B7%80%2Blgbmscore%EC%88%98%EB%A0%B4%EB%B2%84%EC%A0%84.ipynb#X16sZmlsZQ%3D%3D?line=11'>12</a>\u001b[0m y_pred22 \u001b[39m=\u001b[39m model22\u001b[39m.\u001b[39mpredict(test22)\n",
      "File \u001b[1;32mc:\\Users\\admin\\AppData\\Local\\Programs\\Python\\Python310\\lib\\site-packages\\joblib\\numpy_pickle.py:650\u001b[0m, in \u001b[0;36mload\u001b[1;34m(filename, mmap_mode)\u001b[0m\n\u001b[0;32m    648\u001b[0m         obj \u001b[39m=\u001b[39m _unpickle(fobj)\n\u001b[0;32m    649\u001b[0m \u001b[39melse\u001b[39;00m:\n\u001b[1;32m--> 650\u001b[0m     \u001b[39mwith\u001b[39;00m \u001b[39mopen\u001b[39;49m(filename, \u001b[39m'\u001b[39;49m\u001b[39mrb\u001b[39;49m\u001b[39m'\u001b[39;49m) \u001b[39mas\u001b[39;00m f:\n\u001b[0;32m    651\u001b[0m         \u001b[39mwith\u001b[39;00m _read_fileobject(f, filename, mmap_mode) \u001b[39mas\u001b[39;00m fobj:\n\u001b[0;32m    652\u001b[0m             \u001b[39mif\u001b[39;00m \u001b[39misinstance\u001b[39m(fobj, \u001b[39mstr\u001b[39m):\n\u001b[0;32m    653\u001b[0m                 \u001b[39m# if the returned file object is a string, this means we\u001b[39;00m\n\u001b[0;32m    654\u001b[0m                 \u001b[39m# try to load a pickle file generated with an version of\u001b[39;00m\n\u001b[0;32m    655\u001b[0m                 \u001b[39m# Joblib so we load it with joblib compatibility function.\u001b[39;00m\n",
      "\u001b[1;31mFileNotFoundError\u001b[0m: [Errno 2] No such file or directory: '../model/시간3잔차fitting_season9-11_r2.pkl'"
     ]
    }
   ],
   "source": [
    "model11=joblib.load(\"../model/시간1회귀fitting_season9-11_r2.pkl\")\n",
    "model12=joblib.load(\"../model/시간2회귀fitting_season9-11_r2.pkl\")\n",
    "model13=joblib.load(\"../model/시간3회귀fitting_season9-11_r2.pkl\")\n",
    "# 예측 진행 (1차 모델링 y_hat)\n",
    "y_pred11=model11.predict(test11)\n",
    "y_pred12=model12.predict(test12)\n",
    "y_pred13=model13.predict(test13)\n",
    "model21=joblib.load(\"../model/시간1잔차fitting_season9-11_r2.pkl\")\n",
    "model22=joblib.load(\"../model/시간2잔차fitting_season9-11_r2.pkl\")\n",
    "model23=joblib.load(\"../model/시간3잔차fitting_season9-11_r2.pkl\")\n",
    "y_pred21 = model21.predict(test21)\n",
    "y_pred22 = model22.predict(test22)\n",
    "y_pred23 = model23.predict(test23)\n",
    "result1 = y_pred11+y_pred21\n",
    "result2 = y_pred12+y_pred22\n",
    "result3 = y_pred13+y_pred23\n",
    "result = np.concatenate((result1,result2,result3))\n",
    "res2 = result"
   ]
  },
  {
   "cell_type": "code",
   "execution_count": 103,
   "metadata": {},
   "outputs": [
    {
     "data": {
      "text/plain": [
       "array([ 0.96427595,  7.39847258, 28.64790555, 52.93967752, 67.07920672,\n",
       "       76.47278824, 74.97701908, 72.91373648, 55.57736281, 36.73789272,\n",
       "       16.56069981,  0.08620579, -1.72706062])"
      ]
     },
     "execution_count": 103,
     "metadata": {},
     "output_type": "execute_result"
    }
   ],
   "source": [
    "res2"
   ]
  },
  {
   "cell_type": "code",
   "execution_count": 104,
   "metadata": {},
   "outputs": [],
   "source": [
    "pred = (res1+res2)/2"
   ]
  },
  {
   "cell_type": "code",
   "execution_count": 106,
   "metadata": {},
   "outputs": [],
   "source": [
    "pred = [0,0,0,0,0,0, \n",
    "        0.45329102,  6.923824  , 27.52013709, 52.28986821, 68.04686702,\n",
    "       77.37720381, 74.99313956, 72.3857902 , 56.47954789, 37.13017018,\n",
    "       18.59591772,  0.96698706, -0.72389045,\n",
    "       0,0,0,0,0]"
   ]
  },
  {
   "cell_type": "code",
   "execution_count": 7,
   "metadata": {},
   "outputs": [],
   "source": [
    "import numpy as np\n",
    "\n",
    "def testMSEnIncentive(pred,day):\n",
    "    realGens1030 = np.array(day)    \n",
    "    \n",
    "    rss = np.power(pred - realGens1030, 2)\n",
    "    rss1 = rss[6:10]\n",
    "    rss2 = rss[10:14]\n",
    "    rss3 = rss[14:19]\n",
    "    mse1 = sum(rss1/len(rss1))\n",
    "    mse2 = sum(rss2/len(rss2))\n",
    "    mse3 = sum(rss3/len(rss3))\n",
    "    mse = [mse1,mse2,mse3]\n",
    "\n",
    "    score_df = abs(pred - realGens1030)*100/99\n",
    "    score = []\n",
    "    for idx, i in enumerate(score_df):\n",
    "        if i <=6:\n",
    "            score.append(realGens1030[idx] * 4)\n",
    "        elif (i <=8) & (i > 6):\n",
    "            score.append(realGens1030[idx] * 3)\n",
    "        else:\n",
    "            score.append(0)\n",
    "    score1 = score[6:10]\n",
    "    score2 = score[10:14]\n",
    "    score3 = score[14:19]\n",
    "    final_score = [score1,score2,score3]\n",
    "    \n",
    "    sum_score = sum(score)\n",
    "\n",
    "    return mse, final_score , score, sum_score"
   ]
  },
  {
   "cell_type": "code",
   "execution_count": 107,
   "metadata": {},
   "outputs": [
    {
     "data": {
      "text/plain": [
       "([326.8165219308377, 244.15283506897373, 14.163459484276665],\n",
       " [[0, 16, 0, 0], [0, 304, 292, 300], [232, 132, 88, 16, 0]],\n",
       " [0,\n",
       "  0,\n",
       "  0,\n",
       "  0,\n",
       "  0,\n",
       "  0,\n",
       "  0,\n",
       "  16,\n",
       "  0,\n",
       "  0,\n",
       "  0,\n",
       "  304,\n",
       "  292,\n",
       "  300,\n",
       "  232,\n",
       "  132,\n",
       "  88,\n",
       "  16,\n",
       "  0,\n",
       "  0,\n",
       "  0,\n",
       "  0,\n",
       "  0,\n",
       "  0],\n",
       " 1380)"
      ]
     },
     "execution_count": 107,
     "metadata": {},
     "output_type": "execute_result"
    }
   ],
   "source": [
    "testMSEnIncentive(pred,day)"
   ]
  },
  {
   "cell_type": "code",
   "execution_count": null,
   "metadata": {},
   "outputs": [],
   "source": [
    "day = real_dict[\"1029\"]\n",
    "testMSEnIncentive(pred,day)"
   ]
  }
 ],
 "metadata": {
  "kernelspec": {
   "display_name": "'conda'",
   "language": "python",
   "name": "conda"
  },
  "language_info": {
   "codemirror_mode": {
    "name": "ipython",
    "version": 3
   },
   "file_extension": ".py",
   "mimetype": "text/x-python",
   "name": "python",
   "nbconvert_exporter": "python",
   "pygments_lexer": "ipython3",
   "version": "3.10.0rc2"
  },
  "orig_nbformat": 4
 },
 "nbformat": 4,
 "nbformat_minor": 2
}
