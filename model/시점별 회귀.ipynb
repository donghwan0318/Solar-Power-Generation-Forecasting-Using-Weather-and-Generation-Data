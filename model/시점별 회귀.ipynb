{
 "cells": [
  {
   "cell_type": "code",
   "execution_count": 1,
   "metadata": {},
   "outputs": [],
   "source": [
    "import optuna\n",
    "import pandas as pd\n",
    "import numpy as np\n",
    "import seaborn as sns\n",
    "# 시계열 data split\n",
    "from sklearn.model_selection import TimeSeriesSplit\n",
    "# timeseriessplit 시각화\n",
    "from matplotlib.patches import Patch\n",
    "import matplotlib.pyplot as plt\n",
    "# 모델\n",
    "from sklearn.metrics import mean_squared_error\n",
    "from lightgbm import LGBMRegressor\n",
    "cmap_data = plt.cm.Paired\n",
    "cmap_cv = plt.cm.coolwarm\n",
    "plt.style.use('fivethirtyeight')"
   ]
  },
  {
   "cell_type": "code",
   "execution_count": 2,
   "metadata": {},
   "outputs": [],
   "source": [
    "# timeseriessplit 시각화용 함수\n",
    "def plot_cv_indices(cv, X, n_splits, lw=10):\n",
    "    \n",
    "    fig, ax = plt.subplots()\n",
    "    \"\"\"Create a sample plot for indices of a cross-validation object.\"\"\"\n",
    "\n",
    "    # Generate the training/testing visualizations for each CV split\n",
    "    for ii, (tr, tt) in enumerate(cv.split(X=X)):\n",
    "        # Fill in indices with the training/test groups\n",
    "        indices = np.array([np.nan] * len(X))\n",
    "        indices[tt] = 1\n",
    "        indices[tr] = 0\n",
    "\n",
    "        # Visualize the results\n",
    "        ax.scatter(range(len(indices)), [ii + .5] * len(indices),\n",
    "                   c=indices, marker='_', lw=lw, cmap=cmap_cv,\n",
    "                   vmin=-.2, vmax=1.2)\n",
    "\n",
    "    # Formatting\n",
    "    yticklabels = list(range(n_splits))\n",
    "    ax.set(yticks=np.arange(n_splits) + .5, yticklabels=yticklabels,\n",
    "           xlabel='Sample index', ylabel=\"CV iteration\",\n",
    "           ylim=[n_splits+0.1, -.1], xlim=[0, len(X)])\n",
    "    ax.set_title('{}'.format(type(cv).__name__), fontsize=15)\n",
    "    \n",
    "    ax.legend([Patch(color=cmap_cv(.8)), Patch(color=cmap_cv(.02))],\n",
    "          ['Testing set', 'Training set'], loc=(1.02, .8))"
   ]
  },
  {
   "cell_type": "code",
   "execution_count": 3,
   "metadata": {},
   "outputs": [],
   "source": [
    "# blocked TimeSeriesSplit 용 class 정의\n",
    "class BlockingTimeSeriesSplit():\n",
    "    def __init__(self, n_splits):\n",
    "        self.n_splits = n_splits\n",
    "    \n",
    "    def get_n_splits(self, groups):\n",
    "        return self.n_splits\n",
    "    \n",
    "    def split(self, X, y=None, groups=None):\n",
    "        n_samples = len(X)\n",
    "        k_fold_size = n_samples // self.n_splits\n",
    "        indices = np.arange(n_samples)\n",
    "    \n",
    "        margin = 0\n",
    "        for i in range(self.n_splits):\n",
    "            start = i * k_fold_size\n",
    "            stop = start + k_fold_size\n",
    "            mid = int(0.8 * (stop - start)) + start\n",
    "            yield indices[start: mid], indices[mid + margin: stop]"
   ]
  },
  {
   "cell_type": "markdown",
   "metadata": {},
   "source": [
    "# training 데이터 셋 만들기"
   ]
  },
  {
   "cell_type": "markdown",
   "metadata": {},
   "source": [
    "## 1. gens : 실제 발전량 ( y로 쓸 예정 ) \n",
    "## 2. p_gens : 모델별 발전량 ( x변수로 추가 할 예정 )\n",
    "## 3. wf : 기상 예측량 ( x변수로 추가 할 예정 )"
   ]
  },
  {
   "cell_type": "code",
   "execution_count": 4,
   "metadata": {},
   "outputs": [],
   "source": [
    "gens = pd.read_csv(\"../gens.csv\")\n",
    "p_gens = pd.read_csv(\"../pred.csv\")\n",
    "wf = pd.read_csv(\"../weather_forecast.csv\")"
   ]
  },
  {
   "cell_type": "markdown",
   "metadata": {},
   "source": [
    "## 날씨 예측을 10시에 한번 17시에 한번 진행 함으로 2개로 나눠야함."
   ]
  },
  {
   "cell_type": "code",
   "execution_count": 5,
   "metadata": {},
   "outputs": [],
   "source": [
    "# 날씨 예측량을 round1,2로 분리함\n",
    "wf_round1 = wf[wf[\"round\"]==1]\n",
    "wf_round2 = wf[wf[\"round\"]==2]"
   ]
  },
  {
   "cell_type": "markdown",
   "metadata": {},
   "source": [
    "## p_gens를 x변수로 만들기 위해서 모델별로 분리"
   ]
  },
  {
   "cell_type": "code",
   "execution_count": 6,
   "metadata": {},
   "outputs": [],
   "source": [
    "# 발전량 예측량을 모델별로 분리해서 변수로 만들라고 분리하는거\n",
    "# round1에 대해 진행할 경우에 이거 실행\n",
    "p_gens0 = p_gens.loc[(p_gens[\"model_id\"]==0) & (p_gens[\"round\"]==1)].reset_index()\n",
    "p_gens1 = p_gens.loc[(p_gens[\"model_id\"]==1) & (p_gens[\"round\"]==1)].reset_index()\n",
    "p_gens2 = p_gens.loc[(p_gens[\"model_id\"]==2) & (p_gens[\"round\"]==1)].reset_index()\n",
    "p_gens3 = p_gens.loc[(p_gens[\"model_id\"]==3) & (p_gens[\"round\"]==1)].reset_index()\n",
    "p_gens4 = p_gens.loc[(p_gens[\"model_id\"]==4) & (p_gens[\"round\"]==1)].reset_index()\n"
   ]
  },
  {
   "cell_type": "code",
   "execution_count": 11,
   "metadata": {},
   "outputs": [],
   "source": [
    "# 발전량 예측량을 모델별로 분리해서 변수로 만들라고 분리하는거\n",
    "# round2에 대해 진행할 경우에 이거 실행\n",
    "p_gens0 = p_gens.loc[(p_gens[\"model_id\"]==0) & (p_gens[\"round\"]==2)].reset_index()\n",
    "p_gens1 = p_gens.loc[(p_gens[\"model_id\"]==1) & (p_gens[\"round\"]==2)].reset_index()\n",
    "p_gens2 = p_gens.loc[(p_gens[\"model_id\"]==2) & (p_gens[\"round\"]==2)].reset_index()\n",
    "p_gens3 = p_gens.loc[(p_gens[\"model_id\"]==3) & (p_gens[\"round\"]==2)].reset_index()\n",
    "p_gens4 = p_gens.loc[(p_gens[\"model_id\"]==4) & (p_gens[\"round\"]==2)].reset_index()"
   ]
  },
  {
   "cell_type": "markdown",
   "metadata": {},
   "source": [
    "## p_gens 변수로 만들어진 데이터 셋, wf로 만든 데이터셋을 통합해야함. 시간을 기준으로 통합 예정"
   ]
  },
  {
   "cell_type": "code",
   "execution_count": 29,
   "metadata": {},
   "outputs": [],
   "source": [
    "# p_gens(모델 예측량) 데이터 프레임 생성\n",
    "x_df = pd.DataFrame({\"m0\": p_gens0[\"amount\"],\"m1\": p_gens1[\"amount\"],\n",
    "              \"m2\": p_gens2[\"amount\"],\"m3\": p_gens3[\"amount\"],\n",
    "              \"time\" : p_gens0[\"time\"]})"
   ]
  },
  {
   "cell_type": "code",
   "execution_count": 35,
   "metadata": {},
   "outputs": [],
   "source": [
    "xy_df.to_csv(\"test.csv\")"
   ]
  },
  {
   "cell_type": "code",
   "execution_count": 33,
   "metadata": {},
   "outputs": [],
   "source": [
    "# time을 기준으로 두 데이터 병합 ( p_gens, wf )\n",
    "# 1차 모델링의 Y값으로 쓰일 발전량 gens도 같이 병합\n",
    "# round2에 대해 수행해야하면 wf_round2/ 아니면 wf_round1\n",
    "xy_df = pd.merge(x_df,wf_round2,on=\"time\")\n",
    "xy_df = pd.merge(xy_df,gens,on=\"time\")\n",
    "\n",
    "# 월과 날짜 변수를 추가 할 것임, 또한 시간대를 기준으로 데이터프레임을 3개 생성해야함으로 hour 변수도 추가\n",
    "xy_df[\"time\"]=pd.to_datetime(xy_df[\"time\"])\n",
    "xy_df[\"month\"]=xy_df[\"time\"].dt.month\n",
    "xy_df[\"day\"]=xy_df[\"time\"].dt.day\n",
    "xy_df[\"hour\"]=xy_df[\"time\"].dt.hour\n"
   ]
  },
  {
   "cell_type": "code",
   "execution_count": 22,
   "metadata": {},
   "outputs": [],
   "source": [
    "# 시간에 따라 전체 통합된 데이터셋을 3개로 분리\n",
    "# 7-10, 11-14 , 15-19\n",
    "xy_df_1 = xy_df[(xy_df[\"hour\"]<=10) & (xy_df[\"hour\"]>=7)]\n",
    "xy_df_2 = xy_df[(xy_df[\"hour\"]<=14) & (xy_df[\"hour\"]>=11)]\n",
    "xy_df_3 = xy_df[(xy_df[\"hour\"]<=19) & (xy_df[\"hour\"]>=15)]"
   ]
  },
  {
   "cell_type": "code",
   "execution_count": 11,
   "metadata": {},
   "outputs": [],
   "source": [
    "# 1차 모델링에서 사용할 X데이터셋 생성\n",
    "# 데이터프레임 이름 읽는 법.\n",
    "# 변수_몇차모델링_시간분리\n",
    "# 시간 분리는 (1. 7-10 / 2. 11-14 / 3. 15-19)\n",
    "# ex) x_df1_1 (x데이터셋, 1차 모델링, 7-10)\n",
    "x_df1_1 = xy_df_1[[\"m0\",\"m1\",\"m2\",\"m3\",\"uv_idx\",\"elevation\"]]\n",
    "x_df1_2 = xy_df_2[[\"m0\",\"m1\",\"m2\",\"m3\",\"uv_idx\",\"elevation\"]]\n",
    "x_df1_3 = xy_df_3[[\"m0\",\"m1\",\"m2\",\"m3\",\"uv_idx\",\"elevation\"]]\n",
    "x_df2_1 = xy_df_1.drop([\"round\",\"amount\",\"m0\",\"m1\",\"m2\",\"m3\",\"uv_idx\",\"elevation\",\"time\",\"hour\"],axis=1)\n",
    "x_df2_2 = xy_df_2.drop([\"round\",\"amount\",\"m0\",\"m1\",\"m2\",\"m3\",\"uv_idx\",\"elevation\",\"time\",\"hour\"],axis=1)\n",
    "x_df2_3 = xy_df_3.drop([\"round\",\"amount\",\"m0\",\"m1\",\"m2\",\"m3\",\"uv_idx\",\"elevation\",\"time\",\"hour\"],axis=1)"
   ]
  },
  {
   "cell_type": "code",
   "execution_count": 12,
   "metadata": {},
   "outputs": [],
   "source": [
    "# 1차 모델링에서 사용할 Y데이터셋 생성\n",
    "# 표기 법은 X와 동일\n",
    "# 다만 2차 모델링에서 사용할 Y는 1차 모델링에서 구한 Y_hat을 실제 Y에서 뺀 e임으로 추후에 구해야함\n",
    "# e = Y - Y_hat\n",
    "y_df1_1 = xy_df_1[\"amount\"]\n",
    "y_df1_2 = xy_df_2[\"amount\"]\n",
    "y_df1_3 = xy_df_3[\"amount\"]"
   ]
  },
  {
   "cell_type": "markdown",
   "metadata": {},
   "source": [
    "# 모델링1 선형관계 linear or mlp (모델은 바뀔수 있음)"
   ]
  },
  {
   "cell_type": "code",
   "execution_count": 13,
   "metadata": {},
   "outputs": [],
   "source": [
    "from sklearn.linear_model import LinearRegression"
   ]
  },
  {
   "cell_type": "code",
   "execution_count": 14,
   "metadata": {},
   "outputs": [
    {
     "data": {
      "text/html": [
       "<style>#sk-container-id-1 {color: black;background-color: white;}#sk-container-id-1 pre{padding: 0;}#sk-container-id-1 div.sk-toggleable {background-color: white;}#sk-container-id-1 label.sk-toggleable__label {cursor: pointer;display: block;width: 100%;margin-bottom: 0;padding: 0.3em;box-sizing: border-box;text-align: center;}#sk-container-id-1 label.sk-toggleable__label-arrow:before {content: \"▸\";float: left;margin-right: 0.25em;color: #696969;}#sk-container-id-1 label.sk-toggleable__label-arrow:hover:before {color: black;}#sk-container-id-1 div.sk-estimator:hover label.sk-toggleable__label-arrow:before {color: black;}#sk-container-id-1 div.sk-toggleable__content {max-height: 0;max-width: 0;overflow: hidden;text-align: left;background-color: #f0f8ff;}#sk-container-id-1 div.sk-toggleable__content pre {margin: 0.2em;color: black;border-radius: 0.25em;background-color: #f0f8ff;}#sk-container-id-1 input.sk-toggleable__control:checked~div.sk-toggleable__content {max-height: 200px;max-width: 100%;overflow: auto;}#sk-container-id-1 input.sk-toggleable__control:checked~label.sk-toggleable__label-arrow:before {content: \"▾\";}#sk-container-id-1 div.sk-estimator input.sk-toggleable__control:checked~label.sk-toggleable__label {background-color: #d4ebff;}#sk-container-id-1 div.sk-label input.sk-toggleable__control:checked~label.sk-toggleable__label {background-color: #d4ebff;}#sk-container-id-1 input.sk-hidden--visually {border: 0;clip: rect(1px 1px 1px 1px);clip: rect(1px, 1px, 1px, 1px);height: 1px;margin: -1px;overflow: hidden;padding: 0;position: absolute;width: 1px;}#sk-container-id-1 div.sk-estimator {font-family: monospace;background-color: #f0f8ff;border: 1px dotted black;border-radius: 0.25em;box-sizing: border-box;margin-bottom: 0.5em;}#sk-container-id-1 div.sk-estimator:hover {background-color: #d4ebff;}#sk-container-id-1 div.sk-parallel-item::after {content: \"\";width: 100%;border-bottom: 1px solid gray;flex-grow: 1;}#sk-container-id-1 div.sk-label:hover label.sk-toggleable__label {background-color: #d4ebff;}#sk-container-id-1 div.sk-serial::before {content: \"\";position: absolute;border-left: 1px solid gray;box-sizing: border-box;top: 0;bottom: 0;left: 50%;z-index: 0;}#sk-container-id-1 div.sk-serial {display: flex;flex-direction: column;align-items: center;background-color: white;padding-right: 0.2em;padding-left: 0.2em;position: relative;}#sk-container-id-1 div.sk-item {position: relative;z-index: 1;}#sk-container-id-1 div.sk-parallel {display: flex;align-items: stretch;justify-content: center;background-color: white;position: relative;}#sk-container-id-1 div.sk-item::before, #sk-container-id-1 div.sk-parallel-item::before {content: \"\";position: absolute;border-left: 1px solid gray;box-sizing: border-box;top: 0;bottom: 0;left: 50%;z-index: -1;}#sk-container-id-1 div.sk-parallel-item {display: flex;flex-direction: column;z-index: 1;position: relative;background-color: white;}#sk-container-id-1 div.sk-parallel-item:first-child::after {align-self: flex-end;width: 50%;}#sk-container-id-1 div.sk-parallel-item:last-child::after {align-self: flex-start;width: 50%;}#sk-container-id-1 div.sk-parallel-item:only-child::after {width: 0;}#sk-container-id-1 div.sk-dashed-wrapped {border: 1px dashed gray;margin: 0 0.4em 0.5em 0.4em;box-sizing: border-box;padding-bottom: 0.4em;background-color: white;}#sk-container-id-1 div.sk-label label {font-family: monospace;font-weight: bold;display: inline-block;line-height: 1.2em;}#sk-container-id-1 div.sk-label-container {text-align: center;}#sk-container-id-1 div.sk-container {/* jupyter's `normalize.less` sets `[hidden] { display: none; }` but bootstrap.min.css set `[hidden] { display: none !important; }` so we also need the `!important` here to be able to override the default hidden behavior on the sphinx rendered scikit-learn.org. See: https://github.com/scikit-learn/scikit-learn/issues/21755 */display: inline-block !important;position: relative;}#sk-container-id-1 div.sk-text-repr-fallback {display: none;}</style><div id=\"sk-container-id-1\" class=\"sk-top-container\"><div class=\"sk-text-repr-fallback\"><pre>LinearRegression()</pre><b>In a Jupyter environment, please rerun this cell to show the HTML representation or trust the notebook. <br />On GitHub, the HTML representation is unable to render, please try loading this page with nbviewer.org.</b></div><div class=\"sk-container\" hidden><div class=\"sk-item\"><div class=\"sk-estimator sk-toggleable\"><input class=\"sk-toggleable__control sk-hidden--visually\" id=\"sk-estimator-id-1\" type=\"checkbox\" checked><label for=\"sk-estimator-id-1\" class=\"sk-toggleable__label sk-toggleable__label-arrow\">LinearRegression</label><div class=\"sk-toggleable__content\"><pre>LinearRegression()</pre></div></div></div></div></div>"
      ],
      "text/plain": [
       "LinearRegression()"
      ]
     },
     "execution_count": 14,
     "metadata": {},
     "output_type": "execute_result"
    }
   ],
   "source": [
    "# 1차 모델링 (변수 모델예측량 + 고도 + 자외선 지수)\n",
    "lm1 = LinearRegression()\n",
    "lm1.fit(x_df1_1, y_df1_1)\n",
    "lm2 = LinearRegression()\n",
    "lm2.fit(x_df1_2, y_df1_2)\n",
    "lm3 = LinearRegression()\n",
    "lm3.fit(x_df1_3, y_df1_3)\n"
   ]
  },
  {
   "cell_type": "code",
   "execution_count": 17,
   "metadata": {},
   "outputs": [
    {
     "data": {
      "text/plain": [
       "['../model/시간3회귀fitting_r2.pkl']"
      ]
     },
     "execution_count": 17,
     "metadata": {},
     "output_type": "execute_result"
    }
   ],
   "source": [
    "import joblib\n",
    "joblib.dump(lm3,\"../model/시간3회귀fitting_r2.pkl\")"
   ]
  },
  {
   "cell_type": "markdown",
   "metadata": {},
   "source": [
    "## 2차 모델링에 사용할 y값을 만들어야함.\n",
    "## 2차 모델링에서 사용할 y는 Y-Y_hat = e 임."
   ]
  },
  {
   "cell_type": "code",
   "execution_count": 18,
   "metadata": {},
   "outputs": [],
   "source": [
    "# 2차 모델링에 사용할 Y 데이터 셋 생성\n",
    "y_df2_1 = y_df1_1-lm1.predict(x_df1_1)\n",
    "y_df2_2 = y_df1_2-lm2.predict(x_df1_2)\n",
    "y_df2_3 = y_df1_3-lm3.predict(x_df1_3)"
   ]
  },
  {
   "cell_type": "markdown",
   "metadata": {},
   "source": [
    "# 모델링2 잔차에 대하여 fitting (target variable Y = y_df2_1, y_df2_2, y_df2_3)"
   ]
  },
  {
   "cell_type": "code",
   "execution_count": 22,
   "metadata": {},
   "outputs": [
    {
     "data": {
      "image/png": "[encoded data removed]",
      "text/plain": [
       "<Figure size 640x480 with 1 Axes>"
      ]
     },
     "metadata": {},
     "output_type": "display_data"
    }
   ],
   "source": [
    "# 1. TimeSeriesSplit 기본\n",
    "n_split = 5\n",
    "\n",
    "tscv = TimeSeriesSplit(n_splits=n_split)\n",
    "\n",
    "plot_cv_indices(tscv, x_df2_1, n_splits=n_split)"
   ]
  },
  {
   "cell_type": "code",
   "execution_count": 23,
   "metadata": {},
   "outputs": [
    {
     "data": {
      "image/png": "[encoded data removed]",
      "text/plain": [
       "<Figure size 640x480 with 1 Axes>"
      ]
     },
     "metadata": {},
     "output_type": "display_data"
    }
   ],
   "source": [
    "# 2. Blocked TimeSeriesSplit\n",
    "btscv = BlockingTimeSeriesSplit(n_splits=n_split)\n",
    "plot_cv_indices(btscv, x_df2_1, n_splits=n_split)"
   ]
  },
  {
   "cell_type": "code",
   "execution_count": null,
   "metadata": {},
   "outputs": [],
   "source": [
    "# 나중에 쓸꺼같음 일단 두셈\n",
    "score_df = abs(y_pred-y_test)*100/99\n",
    "score = 0\n",
    "for i in score_df:\n",
    "    if i <=6:\n",
    "        score += y_test * 4\n",
    "    elif (i <=8) & (i > 6):\n",
    "        score += y_test * 3\n",
    "    else:\n",
    "        score += 0"
   ]
  },
  {
   "cell_type": "code",
   "execution_count": 32,
   "metadata": {},
   "outputs": [],
   "source": [
    "## optuna 트리모델 설정\n",
    "\n",
    "def objective(trial):\n",
    "    params = {\n",
    "        'n_estimators': trial.suggest_int('n_estimators', 20, 2000),\n",
    "        'max_depth': trial.suggest_int('max_depth', 3, 20),\n",
    "        'learning_rate': trial.suggest_float('learning_rate', 0.0001, 0.5),\n",
    "        'num_leaves': trial.suggest_int('num_leaves', 2, 50),\n",
    "        'min_child_samples': trial.suggest_int('min_child_samples', 5, 100),\n",
    "        'reg_alpha': trial.suggest_float('reg_alpha', 1e-8, 1.0),\n",
    "        'reg_lambda': trial.suggest_float('reg_lambda', 1e-8, 1.0)\n",
    "    }\n",
    "\n",
    "    scores = []\n",
    "    for i, (train_index, test_index) in enumerate(tscv.split(x_df2_3)):\n",
    "        x_train, y_train=x_df2_3.iloc[train_index], y_df2_3.iloc[train_index]\n",
    "        x_test, y_test=x_df2_3.iloc[test_index], y_df2_3.iloc[test_index]\n",
    "\n",
    "        lgbm_model=LGBMRegressor(**params, boost_from_average=False,\n",
    "                                  random_state=42)\n",
    "        lgbm_model.fit(x_train, y_train)\n",
    "\n",
    "        y_pred=lgbm_model.predict(x_test)\n",
    "        score = mean_squared_error(y_test,y_pred)\n",
    "\n",
    "\n",
    "    return score"
   ]
  },
  {
   "cell_type": "code",
   "execution_count": 33,
   "metadata": {},
   "outputs": [
    {
     "name": "stderr",
     "output_type": "stream",
     "text": [
      "\u001b[32m[I 2023-10-28 18:28:13,265]\u001b[0m A new study created in memory with name: no-name-ee4194e8-e58e-496a-8b47-ef9a78393462\u001b[0m\n",
      "\u001b[32m[I 2023-10-28 18:28:13,781]\u001b[0m Trial 0 finished with value: 138.316535998956 and parameters: {'n_estimators': 231, 'max_depth': 8, 'learning_rate': 0.3742329086468435, 'num_leaves': 20, 'min_child_samples': 55, 'reg_alpha': 0.22454855308367988, 'reg_lambda': 0.9859397588006739}. Best is trial 0 with value: 138.316535998956.\u001b[0m\n",
      "\u001b[32m[I 2023-10-28 18:28:14,421]\u001b[0m Trial 1 finished with value: 135.0600218313643 and parameters: {'n_estimators': 346, 'max_depth': 14, 'learning_rate': 0.2871385659245117, 'num_leaves': 18, 'min_child_samples': 85, 'reg_alpha': 0.936393259867383, 'reg_lambda': 0.915404467151169}. Best is trial 1 with value: 135.0600218313643.\u001b[0m\n",
      "\u001b[32m[I 2023-10-28 18:28:16,419]\u001b[0m Trial 2 finished with value: 168.06738632552174 and parameters: {'n_estimators': 1063, 'max_depth': 6, 'learning_rate': 0.4110075530836805, 'num_leaves': 50, 'min_child_samples': 32, 'reg_alpha': 0.20394365521568378, 'reg_lambda': 0.13975677867951317}. Best is trial 1 with value: 135.0600218313643.\u001b[0m\n",
      "\u001b[32m[I 2023-10-28 18:28:17,332]\u001b[0m Trial 3 finished with value: 142.2568604387045 and parameters: {'n_estimators': 480, 'max_depth': 17, 'learning_rate': 0.29865454449824397, 'num_leaves': 27, 'min_child_samples': 69, 'reg_alpha': 0.8786205307944327, 'reg_lambda': 0.014720666280662563}. Best is trial 1 with value: 135.0600218313643.\u001b[0m\n",
      "\u001b[32m[I 2023-10-28 18:28:22,528]\u001b[0m Trial 4 finished with value: 139.20246032199023 and parameters: {'n_estimators': 1881, 'max_depth': 9, 'learning_rate': 0.0735835437973846, 'num_leaves': 40, 'min_child_samples': 17, 'reg_alpha': 0.9434469123934268, 'reg_lambda': 0.5886770067005728}. Best is trial 1 with value: 135.0600218313643.\u001b[0m\n",
      "\u001b[32m[I 2023-10-28 18:28:24,207]\u001b[0m Trial 5 finished with value: 168.2844882781623 and parameters: {'n_estimators': 1324, 'max_depth': 4, 'learning_rate': 0.42242351515809184, 'num_leaves': 26, 'min_child_samples': 72, 'reg_alpha': 0.7571154889136281, 'reg_lambda': 0.6754461080123227}. Best is trial 1 with value: 135.0600218313643.\u001b[0m\n",
      "\u001b[32m[I 2023-10-28 18:28:24,795]\u001b[0m Trial 6 finished with value: 133.7165485611302 and parameters: {'n_estimators': 265, 'max_depth': 8, 'learning_rate': 0.15414820524227826, 'num_leaves': 22, 'min_child_samples': 56, 'reg_alpha': 0.2493828764912534, 'reg_lambda': 0.6252913761837574}. Best is trial 6 with value: 133.7165485611302.\u001b[0m\n",
      "\u001b[32m[I 2023-10-28 18:28:26,579]\u001b[0m Trial 7 finished with value: 134.84288291402183 and parameters: {'n_estimators': 734, 'max_depth': 19, 'learning_rate': 0.26334476845942395, 'num_leaves': 33, 'min_child_samples': 6, 'reg_alpha': 0.5903767604827356, 'reg_lambda': 0.775972787082074}. Best is trial 6 with value: 133.7165485611302.\u001b[0m\n",
      "\u001b[32m[I 2023-10-28 18:28:26,762]\u001b[0m Trial 8 finished with value: 106.49713923321036 and parameters: {'n_estimators': 89, 'max_depth': 14, 'learning_rate': 0.07272610108386311, 'num_leaves': 27, 'min_child_samples': 82, 'reg_alpha': 0.2079342598162386, 'reg_lambda': 0.38249351393393305}. Best is trial 8 with value: 106.49713923321036.\u001b[0m\n",
      "\u001b[32m[I 2023-10-28 18:28:29,049]\u001b[0m Trial 9 finished with value: 160.17983139921182 and parameters: {'n_estimators': 1736, 'max_depth': 5, 'learning_rate': 0.4740202458310142, 'num_leaves': 42, 'min_child_samples': 73, 'reg_alpha': 0.23422647510749392, 'reg_lambda': 0.4340393833289056}. Best is trial 8 with value: 106.49713923321036.\u001b[0m\n",
      "\u001b[32m[I 2023-10-28 18:28:29,429]\u001b[0m Trial 10 finished with value: 97.3615140855751 and parameters: {'n_estimators': 763, 'max_depth': 13, 'learning_rate': 0.0054754203241246385, 'num_leaves': 2, 'min_child_samples': 95, 'reg_alpha': 0.008050341756736246, 'reg_lambda': 0.32748674323404625}. Best is trial 10 with value: 97.3615140855751.\u001b[0m\n",
      "\u001b[32m[I 2023-10-28 18:28:30,023]\u001b[0m Trial 11 finished with value: 104.6234992300743 and parameters: {'n_estimators': 782, 'max_depth': 13, 'learning_rate': 0.03071909553593457, 'num_leaves': 4, 'min_child_samples': 100, 'reg_alpha': 0.022344353275361384, 'reg_lambda': 0.374554823902554}. Best is trial 10 with value: 97.3615140855751.\u001b[0m\n",
      "\u001b[32m[I 2023-10-28 18:28:30,432]\u001b[0m Trial 12 finished with value: 98.56804244650876 and parameters: {'n_estimators': 821, 'max_depth': 12, 'learning_rate': 0.010540215940037227, 'num_leaves': 2, 'min_child_samples': 96, 'reg_alpha': 0.05434726503353502, 'reg_lambda': 0.3223303659090113}. Best is trial 10 with value: 97.3615140855751.\u001b[0m\n",
      "\u001b[32m[I 2023-10-28 18:28:31,325]\u001b[0m Trial 13 finished with value: 105.13338496864186 and parameters: {'n_estimators': 1227, 'max_depth': 11, 'learning_rate': 0.025293707852548614, 'num_leaves': 4, 'min_child_samples': 100, 'reg_alpha': 0.025422252921814714, 'reg_lambda': 0.2169591450301629}. Best is trial 10 with value: 97.3615140855751.\u001b[0m\n",
      "\u001b[32m[I 2023-10-28 18:28:32,280]\u001b[0m Trial 14 finished with value: 135.00098302923195 and parameters: {'n_estimators': 689, 'max_depth': 16, 'learning_rate': 0.13512599174981016, 'num_leaves': 12, 'min_child_samples': 89, 'reg_alpha': 0.3962800150088026, 'reg_lambda': 0.2833687461694711}. Best is trial 10 with value: 97.3615140855751.\u001b[0m\n",
      "\u001b[32m[I 2023-10-28 18:28:34,770]\u001b[0m Trial 15 finished with value: 117.05597559741452 and parameters: {'n_estimators': 1501, 'max_depth': 11, 'learning_rate': 0.014513567236620046, 'num_leaves': 11, 'min_child_samples': 41, 'reg_alpha': 0.00576145438904288, 'reg_lambda': 0.49572749330705546}. Best is trial 10 with value: 97.3615140855751.\u001b[0m\n",
      "\u001b[32m[I 2023-10-28 18:28:36,075]\u001b[0m Trial 16 finished with value: 140.92999937984314 and parameters: {'n_estimators': 974, 'max_depth': 16, 'learning_rate': 0.14543015998722503, 'num_leaves': 11, 'min_child_samples': 89, 'reg_alpha': 0.10391576828141282, 'reg_lambda': 0.2877532941913519}. Best is trial 10 with value: 97.3615140855751.\u001b[0m\n",
      "\u001b[32m[I 2023-10-28 18:28:36,528]\u001b[0m Trial 17 finished with value: 111.8807040807419 and parameters: {'n_estimators': 546, 'max_depth': 12, 'learning_rate': 0.2096644679512617, 'num_leaves': 3, 'min_child_samples': 62, 'reg_alpha': 0.41526180700288506, 'reg_lambda': 0.4737938513840103}. Best is trial 10 with value: 97.3615140855751.\u001b[0m\n",
      "\u001b[32m[I 2023-10-28 18:28:37,835]\u001b[0m Trial 18 finished with value: 100.25497118509398 and parameters: {'n_estimators': 959, 'max_depth': 9, 'learning_rate': 0.0055057457173524485, 'num_leaves': 8, 'min_child_samples': 42, 'reg_alpha': 0.13521840789120698, 'reg_lambda': 0.15082130272756591}. Best is trial 10 with value: 97.3615140855751.\u001b[0m\n",
      "\u001b[32m[I 2023-10-28 18:28:40,322]\u001b[0m Trial 19 finished with value: 135.61513533489062 and parameters: {'n_estimators': 1497, 'max_depth': 19, 'learning_rate': 0.10313435512380334, 'num_leaves': 17, 'min_child_samples': 79, 'reg_alpha': 0.3208402799733681, 'reg_lambda': 0.3384557420476383}. Best is trial 10 with value: 97.3615140855751.\u001b[0m\n",
      "\u001b[32m[I 2023-10-28 18:28:41,734]\u001b[0m Trial 20 finished with value: 139.74733332701422 and parameters: {'n_estimators': 1163, 'max_depth': 15, 'learning_rate': 0.20368648127045663, 'num_leaves': 9, 'min_child_samples': 93, 'reg_alpha': 0.10315984745372511, 'reg_lambda': 0.534179430773638}. Best is trial 10 with value: 97.3615140855751.\u001b[0m\n",
      "\u001b[32m[I 2023-10-28 18:28:42,219]\u001b[0m Trial 21 finished with value: 96.49376586456356 and parameters: {'n_estimators': 942, 'max_depth': 10, 'learning_rate': 0.000977402385774307, 'num_leaves': 2, 'min_child_samples': 42, 'reg_alpha': 0.12258610690401314, 'reg_lambda': 0.19162405118495232}. Best is trial 21 with value: 96.49376586456356.\u001b[0m\n",
      "\u001b[32m[I 2023-10-28 18:28:42,678]\u001b[0m Trial 22 finished with value: 100.61887304056232 and parameters: {'n_estimators': 898, 'max_depth': 10, 'learning_rate': 0.059137005509891497, 'num_leaves': 2, 'min_child_samples': 31, 'reg_alpha': 0.08066366057547504, 'reg_lambda': 0.27878211934431896}. Best is trial 21 with value: 96.49376586456356.\u001b[0m\n",
      "\u001b[32m[I 2023-10-28 18:28:43,488]\u001b[0m Trial 23 finished with value: 97.41641247726956 and parameters: {'n_estimators': 564, 'max_depth': 12, 'learning_rate': 0.004669532507758024, 'num_leaves': 7, 'min_child_samples': 37, 'reg_alpha': 0.13814334767584807, 'reg_lambda': 0.18264151755858693}. Best is trial 21 with value: 96.49376586456356.\u001b[0m\n",
      "\u001b[32m[I 2023-10-28 18:28:44,731]\u001b[0m Trial 24 finished with value: 120.38751288793297 and parameters: {'n_estimators': 473, 'max_depth': 7, 'learning_rate': 0.05679449227268886, 'num_leaves': 15, 'min_child_samples': 46, 'reg_alpha': 0.13828161916334103, 'reg_lambda': 0.17752459659632397}. Best is trial 21 with value: 96.49376586456356.\u001b[0m\n",
      "\u001b[32m[I 2023-10-28 18:28:45,632]\u001b[0m Trial 25 finished with value: 129.98739278817945 and parameters: {'n_estimators': 644, 'max_depth': 13, 'learning_rate': 0.0979617396430025, 'num_leaves': 6, 'min_child_samples': 29, 'reg_alpha': 0.15602690081147955, 'reg_lambda': 0.05311434214334548}. Best is trial 21 with value: 96.49376586456356.\u001b[0m\n",
      "\u001b[32m[I 2023-10-28 18:28:45,771]\u001b[0m Trial 26 finished with value: 96.71863523618134 and parameters: {'n_estimators': 23, 'max_depth': 10, 'learning_rate': 0.03603339203128429, 'num_leaves': 14, 'min_child_samples': 17, 'reg_alpha': 0.004302054744205766, 'reg_lambda': 0.11024826566046303}. Best is trial 21 with value: 96.49376586456356.\u001b[0m\n",
      "\u001b[32m[I 2023-10-28 18:28:45,905]\u001b[0m Trial 27 finished with value: 96.61544417351533 and parameters: {'n_estimators': 23, 'max_depth': 10, 'learning_rate': 0.04652762472394312, 'num_leaves': 13, 'min_child_samples': 20, 'reg_alpha': 0.0023915735332954435, 'reg_lambda': 0.0874503637361492}. Best is trial 21 with value: 96.49376586456356.\u001b[0m\n",
      "\u001b[32m[I 2023-10-28 18:28:46,035]\u001b[0m Trial 28 finished with value: 103.06066084070642 and parameters: {'n_estimators': 24, 'max_depth': 10, 'learning_rate': 0.1105696770744338, 'num_leaves': 14, 'min_child_samples': 19, 'reg_alpha': 0.00010700988442400097, 'reg_lambda': 0.08929212157967205}. Best is trial 21 with value: 96.49376586456356.\u001b[0m\n",
      "\u001b[32m[I 2023-10-28 18:28:46,507]\u001b[0m Trial 29 finished with value: 117.52824827096899 and parameters: {'n_estimators': 145, 'max_depth': 7, 'learning_rate': 0.05703408177737951, 'num_leaves': 23, 'min_child_samples': 21, 'reg_alpha': 0.2740595065839877, 'reg_lambda': 0.019358468085535915}. Best is trial 21 with value: 96.49376586456356.\u001b[0m\n",
      "\u001b[32m[I 2023-10-28 18:28:47,553]\u001b[0m Trial 30 finished with value: 122.62618069695702 and parameters: {'n_estimators': 310, 'max_depth': 9, 'learning_rate': 0.03908717730790115, 'num_leaves': 19, 'min_child_samples': 9, 'reg_alpha': 0.08054528160502733, 'reg_lambda': 0.10779201295144286}. Best is trial 21 with value: 96.49376586456356.\u001b[0m\n",
      "\u001b[32m[I 2023-10-28 18:28:47,977]\u001b[0m Trial 31 finished with value: 108.66203669649879 and parameters: {'n_estimators': 213, 'max_depth': 8, 'learning_rate': 0.04422203028879394, 'num_leaves': 8, 'min_child_samples': 14, 'reg_alpha': 0.0010246285208047184, 'reg_lambda': 0.22796651558896286}. Best is trial 21 with value: 96.49376586456356.\u001b[0m\n",
      "\u001b[32m[I 2023-10-28 18:28:48,791]\u001b[0m Trial 32 finished with value: 125.0542406427114 and parameters: {'n_estimators': 330, 'max_depth': 10, 'learning_rate': 0.08071102633458876, 'num_leaves': 14, 'min_child_samples': 25, 'reg_alpha': 0.07911928154686555, 'reg_lambda': 0.08429861041690387}. Best is trial 21 with value: 96.49376586456356.\u001b[0m\n",
      "\u001b[32m[I 2023-10-28 18:28:49,276]\u001b[0m Trial 33 finished with value: 101.72005293946494 and parameters: {'n_estimators': 402, 'max_depth': 13, 'learning_rate': 0.038507117973132304, 'num_leaves': 5, 'min_child_samples': 49, 'reg_alpha': 0.1744375818739428, 'reg_lambda': 0.13275313914719034}. Best is trial 21 with value: 96.49376586456356.\u001b[0m\n",
      "\u001b[32m[I 2023-10-28 18:28:51,023]\u001b[0m Trial 34 finished with value: 96.58541005658984 and parameters: {'n_estimators': 1090, 'max_depth': 11, 'learning_rate': 0.00021545260436596286, 'num_leaves': 10, 'min_child_samples': 55, 'reg_alpha': 0.062411976373019463, 'reg_lambda': 0.00488392890159052}. Best is trial 21 with value: 96.49376586456356.\u001b[0m\n",
      "\u001b[32m[I 2023-10-28 18:28:53,113]\u001b[0m Trial 35 finished with value: 94.94597882307157 and parameters: {'n_estimators': 1118, 'max_depth': 7, 'learning_rate': 0.00101578592514875, 'num_leaves': 17, 'min_child_samples': 57, 'reg_alpha': 0.17804777793654836, 'reg_lambda': 0.004742678505695319}. Best is trial 35 with value: 94.94597882307157.\u001b[0m\n",
      "\u001b[32m[I 2023-10-28 18:28:54,854]\u001b[0m Trial 36 finished with value: 143.74628210902915 and parameters: {'n_estimators': 1101, 'max_depth': 6, 'learning_rate': 0.08459907282161497, 'num_leaves': 17, 'min_child_samples': 57, 'reg_alpha': 0.17837320390028516, 'reg_lambda': 0.009825648828530084}. Best is trial 35 with value: 94.94597882307157.\u001b[0m\n",
      "\u001b[32m[I 2023-10-28 18:28:56,674]\u001b[0m Trial 37 finished with value: 138.11645336553187 and parameters: {'n_estimators': 1332, 'max_depth': 5, 'learning_rate': 0.06576950222806197, 'num_leaves': 21, 'min_child_samples': 64, 'reg_alpha': 0.19717391556946348, 'reg_lambda': 0.004760644235990524}. Best is trial 35 with value: 94.94597882307157.\u001b[0m\n",
      "\u001b[32m[I 2023-10-28 18:28:58,849]\u001b[0m Trial 38 finished with value: 98.20459372809803 and parameters: {'n_estimators': 1400, 'max_depth': 7, 'learning_rate': 0.0018134045070158848, 'num_leaves': 10, 'min_child_samples': 53, 'reg_alpha': 0.278870790548638, 'reg_lambda': 0.06320001346238711}. Best is trial 35 with value: 94.94597882307157.\u001b[0m\n",
      "\u001b[32m[I 2023-10-28 18:29:01,043]\u001b[0m Trial 39 finished with value: 147.64361425529134 and parameters: {'n_estimators': 1768, 'max_depth': 4, 'learning_rate': 0.12211697201570268, 'num_leaves': 17, 'min_child_samples': 61, 'reg_alpha': 0.09299258239254765, 'reg_lambda': 0.13629245976893295}. Best is trial 35 with value: 94.94597882307157.\u001b[0m\n",
      "\u001b[32m[I 2023-10-28 18:29:02,035]\u001b[0m Trial 40 finished with value: 131.55214302599234 and parameters: {'n_estimators': 1031, 'max_depth': 3, 'learning_rate': 0.09218513920128504, 'num_leaves': 25, 'min_child_samples': 37, 'reg_alpha': 0.22239749408521903, 'reg_lambda': 0.05236356591376729}. Best is trial 35 with value: 94.94597882307157.\u001b[0m\n",
      "\u001b[32m[I 2023-10-28 18:29:02,524]\u001b[0m Trial 41 finished with value: 112.15245241104229 and parameters: {'n_estimators': 191, 'max_depth': 10, 'learning_rate': 0.03096584907613619, 'num_leaves': 14, 'min_child_samples': 12, 'reg_alpha': 0.054791646941618206, 'reg_lambda': 0.08857419930610935}. Best is trial 35 with value: 94.94597882307157.\u001b[0m\n",
      "\u001b[32m[I 2023-10-28 18:29:06,081]\u001b[0m Trial 42 finished with value: 143.70550200342814 and parameters: {'n_estimators': 1244, 'max_depth': 8, 'learning_rate': 0.04034893838847928, 'num_leaves': 32, 'min_child_samples': 24, 'reg_alpha': 0.050553921004405894, 'reg_lambda': 0.0055591511240999526}. Best is trial 35 with value: 94.94597882307157.\u001b[0m\n",
      "\u001b[32m[I 2023-10-28 18:29:06,291]\u001b[0m Trial 43 finished with value: 97.76826564041224 and parameters: {'n_estimators': 92, 'max_depth': 9, 'learning_rate': 0.02871675494491893, 'num_leaves': 12, 'min_child_samples': 68, 'reg_alpha': 0.1276299119985824, 'reg_lambda': 0.11731766259591989}. Best is trial 35 with value: 94.94597882307157.\u001b[0m\n",
      "\u001b[32m[I 2023-10-28 18:29:08,872]\u001b[0m Trial 44 finished with value: 135.8589198630081 and parameters: {'n_estimators': 1097, 'max_depth': 11, 'learning_rate': 0.06640255092734014, 'num_leaves': 49, 'min_child_samples': 50, 'reg_alpha': 0.05590171805695993, 'reg_lambda': 0.045226278013427657}. Best is trial 35 with value: 94.94597882307157.\u001b[0m\n",
      "\u001b[32m[I 2023-10-28 18:29:13,429]\u001b[0m Trial 45 finished with value: 132.34188068187552 and parameters: {'n_estimators': 1959, 'max_depth': 8, 'learning_rate': 0.018904465742054795, 'num_leaves': 20, 'min_child_samples': 36, 'reg_alpha': 0.18431766577516326, 'reg_lambda': 0.18528024047854189}. Best is trial 35 with value: 94.94597882307157.\u001b[0m\n",
      "\u001b[32m[I 2023-10-28 18:29:15,097]\u001b[0m Trial 46 finished with value: 149.76689036891196 and parameters: {'n_estimators': 880, 'max_depth': 6, 'learning_rate': 0.32198223595837383, 'num_leaves': 32, 'min_child_samples': 57, 'reg_alpha': 0.1121126246654378, 'reg_lambda': 0.09262688819121144}. Best is trial 35 with value: 94.94597882307157.\u001b[0m\n",
      "\u001b[32m[I 2023-10-28 18:29:19,841]\u001b[0m Trial 47 finished with value: 140.64889289685883 and parameters: {'n_estimators': 1464, 'max_depth': 11, 'learning_rate': 0.08294347487408905, 'num_leaves': 24, 'min_child_samples': 6, 'reg_alpha': 0.04668865355639551, 'reg_lambda': 0.04887268174649831}. Best is trial 35 with value: 94.94597882307157.\u001b[0m\n",
      "\u001b[32m[I 2023-10-28 18:29:21,893]\u001b[0m Trial 48 finished with value: 96.56112334234608 and parameters: {'n_estimators': 1216, 'max_depth': 9, 'learning_rate': 0.0011114987533233436, 'num_leaves': 29, 'min_child_samples': 75, 'reg_alpha': 0.22939169880984353, 'reg_lambda': 0.14653770318600018}. Best is trial 35 with value: 94.94597882307157.\u001b[0m\n",
      "\u001b[32m[I 2023-10-28 18:29:24,130]\u001b[0m Trial 49 finished with value: 99.64215770148525 and parameters: {'n_estimators': 1247, 'max_depth': 9, 'learning_rate': 0.0024546277740619413, 'num_leaves': 38, 'min_child_samples': 77, 'reg_alpha': 0.24044662982072018, 'reg_lambda': 0.1490278376312553}. Best is trial 35 with value: 94.94597882307157.\u001b[0m\n",
      "\u001b[32m[I 2023-10-28 18:29:27,322]\u001b[0m Trial 50 finished with value: 128.0914189434847 and parameters: {'n_estimators': 1619, 'max_depth': 14, 'learning_rate': 0.02118602816125868, 'num_leaves': 28, 'min_child_samples': 69, 'reg_alpha': 0.1720650769826087, 'reg_lambda': 0.21802731467330025}. Best is trial 35 with value: 94.94597882307157.\u001b[0m\n",
      "\u001b[32m[I 2023-10-28 18:29:29,284]\u001b[0m Trial 51 finished with value: 134.14852120381616 and parameters: {'n_estimators': 1141, 'max_depth': 10, 'learning_rate': 0.04982444551413881, 'num_leaves': 28, 'min_child_samples': 74, 'reg_alpha': 0.030151879092855917, 'reg_lambda': 0.11175702575065974}. Best is trial 35 with value: 94.94597882307157.\u001b[0m\n",
      "\u001b[32m[I 2023-10-28 18:29:29,421]\u001b[0m Trial 52 finished with value: 94.60517348721542 and parameters: {'n_estimators': 22, 'max_depth': 9, 'learning_rate': 0.02933530810467227, 'num_leaves': 30, 'min_child_samples': 42, 'reg_alpha': 0.11542632123405266, 'reg_lambda': 0.049089358693782496}. Best is trial 52 with value: 94.60517348721542.\u001b[0m\n",
      "\u001b[32m[I 2023-10-28 18:29:32,573]\u001b[0m Trial 53 finished with value: 93.39396792895573 and parameters: {'n_estimators': 1327, 'max_depth': 9, 'learning_rate': 0.0007457671983693944, 'num_leaves': 35, 'min_child_samples': 46, 'reg_alpha': 0.2175176486716639, 'reg_lambda': 0.03875040820636515}. Best is trial 53 with value: 93.39396792895573.\u001b[0m\n",
      "\u001b[32m[I 2023-10-28 18:29:35,376]\u001b[0m Trial 54 finished with value: 98.7878577987636 and parameters: {'n_estimators': 1296, 'max_depth': 8, 'learning_rate': 0.0025206900768583204, 'num_leaves': 35, 'min_child_samples': 44, 'reg_alpha': 0.3152136660920928, 'reg_lambda': 0.034906979287593176}. Best is trial 53 with value: 93.39396792895573.\u001b[0m\n",
      "\u001b[32m[I 2023-10-28 18:29:38,090]\u001b[0m Trial 55 finished with value: 125.45540553752114 and parameters: {'n_estimators': 1630, 'max_depth': 6, 'learning_rate': 0.021603188150329463, 'num_leaves': 36, 'min_child_samples': 48, 'reg_alpha': 0.20730401714130883, 'reg_lambda': 0.0030499156272492042}. Best is trial 53 with value: 93.39396792895573.\u001b[0m\n",
      "\u001b[32m[I 2023-10-28 18:29:41,279]\u001b[0m Trial 56 finished with value: 95.45952140075008 and parameters: {'n_estimators': 1408, 'max_depth': 7, 'learning_rate': 0.00027099628427896974, 'num_leaves': 31, 'min_child_samples': 40, 'reg_alpha': 0.14759521111317964, 'reg_lambda': 0.05782079137204542}. Best is trial 53 with value: 93.39396792895573.\u001b[0m\n",
      "\u001b[32m[I 2023-10-28 18:29:44,071]\u001b[0m Trial 57 finished with value: 129.31284149016918 and parameters: {'n_estimators': 1388, 'max_depth': 7, 'learning_rate': 0.02499132637124627, 'num_leaves': 30, 'min_child_samples': 39, 'reg_alpha': 0.15193253785453298, 'reg_lambda': 0.05448942493154301}. Best is trial 53 with value: 93.39396792895573.\u001b[0m\n",
      "\u001b[32m[I 2023-10-28 18:29:46,652]\u001b[0m Trial 58 finished with value: 154.87375332735584 and parameters: {'n_estimators': 1585, 'max_depth': 5, 'learning_rate': 0.06866258782997743, 'num_leaves': 41, 'min_child_samples': 33, 'reg_alpha': 0.2367240891154806, 'reg_lambda': 0.1652300904237863}. Best is trial 53 with value: 93.39396792895573.\u001b[0m\n",
      "\u001b[32m[I 2023-10-28 18:29:49,311]\u001b[0m Trial 59 finished with value: 120.26201520211615 and parameters: {'n_estimators': 1213, 'max_depth': 9, 'learning_rate': 0.01704446540029742, 'num_leaves': 44, 'min_child_samples': 44, 'reg_alpha': 0.11563142867998329, 'reg_lambda': 0.23004784463164113}. Best is trial 53 with value: 93.39396792895573.\u001b[0m\n",
      "\u001b[32m[I 2023-10-28 18:29:52,272]\u001b[0m Trial 60 finished with value: 138.39999569229064 and parameters: {'n_estimators': 1419, 'max_depth': 8, 'learning_rate': 0.0554393376249375, 'num_leaves': 34, 'min_child_samples': 41, 'reg_alpha': 0.26744837876808847, 'reg_lambda': 0.1513162573162971}. Best is trial 53 with value: 93.39396792895573.\u001b[0m\n",
      "\u001b[32m[I 2023-10-28 18:29:55,377]\u001b[0m Trial 61 finished with value: 98.02091809568098 and parameters: {'n_estimators': 1326, 'max_depth': 11, 'learning_rate': 0.0016711955073877194, 'num_leaves': 31, 'min_child_samples': 52, 'reg_alpha': 0.14417517485326212, 'reg_lambda': 0.06677869196923357}. Best is trial 53 with value: 93.39396792895573.\u001b[0m\n",
      "\u001b[32m[I 2023-10-28 18:29:57,748]\u001b[0m Trial 62 finished with value: 118.65187513461214 and parameters: {'n_estimators': 1021, 'max_depth': 12, 'learning_rate': 0.01770782771358312, 'num_leaves': 26, 'min_child_samples': 55, 'reg_alpha': 0.20870146734119666, 'reg_lambda': 0.03264388560367233}. Best is trial 53 with value: 93.39396792895573.\u001b[0m\n",
      "\u001b[32m[I 2023-10-28 18:29:59,667]\u001b[0m Trial 63 finished with value: 95.06132742517804 and parameters: {'n_estimators': 927, 'max_depth': 9, 'learning_rate': 0.0005748932599010825, 'num_leaves': 29, 'min_child_samples': 60, 'reg_alpha': 0.10088881199247068, 'reg_lambda': 0.06863093335406531}. Best is trial 53 with value: 93.39396792895573.\u001b[0m\n",
      "\u001b[32m[I 2023-10-28 18:30:01,086]\u001b[0m Trial 64 finished with value: 122.68754139759173 and parameters: {'n_estimators': 941, 'max_depth': 9, 'learning_rate': 0.03838377724787932, 'num_leaves': 29, 'min_child_samples': 85, 'reg_alpha': 0.10888630569741348, 'reg_lambda': 0.11545554637349827}. Best is trial 53 with value: 93.39396792895573.\u001b[0m\n",
      "\u001b[32m[I 2023-10-28 18:30:03,042]\u001b[0m Trial 65 finished with value: 117.03648800951898 and parameters: {'n_estimators': 842, 'max_depth': 20, 'learning_rate': 0.019376657182096812, 'num_leaves': 37, 'min_child_samples': 61, 'reg_alpha': 0.15283065978677413, 'reg_lambda': 0.07483400017710716}. Best is trial 53 with value: 93.39396792895573.\u001b[0m\n",
      "\u001b[32m[I 2023-10-28 18:30:05,040]\u001b[0m Trial 66 finished with value: 136.0373085677312 and parameters: {'n_estimators': 1185, 'max_depth': 7, 'learning_rate': 0.0515773405522234, 'num_leaves': 34, 'min_child_samples': 65, 'reg_alpha': 0.18453319941681148, 'reg_lambda': 0.12371315235012857}. Best is trial 53 with value: 93.39396792895573.\u001b[0m\n",
      "\u001b[32m[I 2023-10-28 18:30:06,427]\u001b[0m Trial 67 finished with value: 131.39040055117565 and parameters: {'n_estimators': 751, 'max_depth': 7, 'learning_rate': 0.07832340354370539, 'num_leaves': 39, 'min_child_samples': 45, 'reg_alpha': 0.21682082356138382, 'reg_lambda': 0.18103015077124254}. Best is trial 53 with value: 93.39396792895573.\u001b[0m\n",
      "\u001b[32m[I 2023-10-28 18:30:09,455]\u001b[0m Trial 68 finished with value: 136.20027955874977 and parameters: {'n_estimators': 1558, 'max_depth': 9, 'learning_rate': 0.034068848293785134, 'num_leaves': 30, 'min_child_samples': 59, 'reg_alpha': 0.08686208866892198, 'reg_lambda': 0.035132557006232745}. Best is trial 53 with value: 93.39396792895573.\u001b[0m\n",
      "\u001b[32m[I 2023-10-28 18:30:11,075]\u001b[0m Trial 69 finished with value: 136.59166905099457 and parameters: {'n_estimators': 680, 'max_depth': 9, 'learning_rate': 0.06578480271753848, 'num_leaves': 27, 'min_child_samples': 34, 'reg_alpha': 0.12462886936133717, 'reg_lambda': 0.08022829021513955}. Best is trial 53 with value: 93.39396792895573.\u001b[0m\n",
      "\u001b[32m[I 2023-10-28 18:30:14,147]\u001b[0m Trial 70 finished with value: 125.7722364360635 and parameters: {'n_estimators': 1758, 'max_depth': 6, 'learning_rate': 0.015554263430558915, 'num_leaves': 22, 'min_child_samples': 41, 'reg_alpha': 0.25216207902780874, 'reg_lambda': 0.20373381017508976}. Best is trial 53 with value: 93.39396792895573.\u001b[0m\n",
      "\u001b[32m[I 2023-10-28 18:30:16,560]\u001b[0m Trial 71 finished with value: 97.76516710448881 and parameters: {'n_estimators': 1058, 'max_depth': 11, 'learning_rate': 0.0021067242327505453, 'num_leaves': 33, 'min_child_samples': 52, 'reg_alpha': 0.06532933631643628, 'reg_lambda': 0.03579953752388728}. Best is trial 53 with value: 93.39396792895573.\u001b[0m\n",
      "\u001b[32m[I 2023-10-28 18:30:19,004]\u001b[0m Trial 72 finished with value: 96.76470344460502 and parameters: {'n_estimators': 976, 'max_depth': 10, 'learning_rate': 0.002018061244580094, 'num_leaves': 25, 'min_child_samples': 47, 'reg_alpha': 0.16048057360419768, 'reg_lambda': 0.022708085729125672}. Best is trial 53 with value: 93.39396792895573.\u001b[0m\n",
      "\u001b[32m[I 2023-10-28 18:30:20,000]\u001b[0m Trial 73 finished with value: 108.50380425094991 and parameters: {'n_estimators': 1129, 'max_depth': 8, 'learning_rate': 0.0326988730802494, 'num_leaves': 4, 'min_child_samples': 30, 'reg_alpha': 0.08714336109546111, 'reg_lambda': 0.06604980459069903}. Best is trial 53 with value: 93.39396792895573.\u001b[0m\n",
      "\u001b[32m[I 2023-10-28 18:30:23,100]\u001b[0m Trial 74 finished with value: 138.9215831542626 and parameters: {'n_estimators': 1254, 'max_depth': 10, 'learning_rate': 0.04849662391619797, 'num_leaves': 29, 'min_child_samples': 39, 'reg_alpha': 0.13090716030002963, 'reg_lambda': 0.14002562165159083}. Best is trial 53 with value: 93.39396792895573.\u001b[0m\n",
      "\u001b[32m[I 2023-10-28 18:30:26,474]\u001b[0m Trial 75 finished with value: 119.90165539112233 and parameters: {'n_estimators': 1378, 'max_depth': 12, 'learning_rate': 0.014448165369848246, 'num_leaves': 31, 'min_child_samples': 49, 'reg_alpha': 0.02708886761703312, 'reg_lambda': 0.00801407096897476}. Best is trial 53 with value: 93.39396792895573.\u001b[0m\n",
      "\u001b[32m[I 2023-10-28 18:30:27,477]\u001b[0m Trial 76 finished with value: 96.94921314804147 and parameters: {'n_estimators': 894, 'max_depth': 5, 'learning_rate': 0.000299950220787855, 'num_leaves': 6, 'min_child_samples': 54, 'reg_alpha': 0.18648964174025817, 'reg_lambda': 0.08124031089864263}. Best is trial 53 with value: 93.39396792895573.\u001b[0m\n",
      "\u001b[32m[I 2023-10-28 18:30:28,871]\u001b[0m Trial 77 finished with value: 124.34318905444144 and parameters: {'n_estimators': 809, 'max_depth': 8, 'learning_rate': 0.02970272774599981, 'num_leaves': 36, 'min_child_samples': 66, 'reg_alpha': 0.0919472557047934, 'reg_lambda': 0.10112154005186007}. Best is trial 53 with value: 93.39396792895573.\u001b[0m\n",
      "\u001b[32m[I 2023-10-28 18:30:31,342]\u001b[0m Trial 78 finished with value: 132.09354278274807 and parameters: {'n_estimators': 1083, 'max_depth': 11, 'learning_rate': 0.04470989868750841, 'num_leaves': 33, 'min_child_samples': 51, 'reg_alpha': 0.1616978204638, 'reg_lambda': 0.034841206868524266}. Best is trial 53 with value: 93.39396792895573.\u001b[0m\n",
      "\u001b[32m[I 2023-10-28 18:30:33,396]\u001b[0m Trial 79 finished with value: 118.14810657248314 and parameters: {'n_estimators': 1169, 'max_depth': 9, 'learning_rate': 0.014655849854516635, 'num_leaves': 26, 'min_child_samples': 71, 'reg_alpha': 0.07361453767010662, 'reg_lambda': 0.15543169687454234}. Best is trial 53 with value: 93.39396792895573.\u001b[0m\n",
      "\u001b[32m[I 2023-10-28 18:30:35,278]\u001b[0m Trial 80 finished with value: 133.47041755339856 and parameters: {'n_estimators': 1295, 'max_depth': 7, 'learning_rate': 0.05941217790495105, 'num_leaves': 10, 'min_child_samples': 58, 'reg_alpha': 0.11993220090926174, 'reg_lambda': 0.004591001413148138}. Best is trial 53 with value: 93.39396792895573.\u001b[0m\n",
      "\u001b[32m[I 2023-10-28 18:30:36,038]\u001b[0m Trial 81 finished with value: 113.53475299189152 and parameters: {'n_estimators': 405, 'max_depth': 10, 'learning_rate': 0.031742029517496606, 'num_leaves': 12, 'min_child_samples': 27, 'reg_alpha': 0.031231564376833578, 'reg_lambda': 0.06371943085545217}. Best is trial 53 with value: 93.39396792895573.\u001b[0m\n",
      "\u001b[32m[I 2023-10-28 18:30:36,427]\u001b[0m Trial 82 finished with value: 107.58701589044566 and parameters: {'n_estimators': 238, 'max_depth': 10, 'learning_rate': 0.05134933468488453, 'num_leaves': 8, 'min_child_samples': 46, 'reg_alpha': 0.05124866238577669, 'reg_lambda': 0.10480268252442347}. Best is trial 53 with value: 93.39396792895573.\u001b[0m\n",
      "\u001b[32m[I 2023-10-28 18:30:36,684]\u001b[0m Trial 83 finished with value: 94.44736445992105 and parameters: {'n_estimators': 104, 'max_depth': 11, 'learning_rate': 0.011768961982353936, 'num_leaves': 16, 'min_child_samples': 63, 'reg_alpha': 0.011778003581249748, 'reg_lambda': 0.08797737352272114}. Best is trial 53 with value: 93.39396792895573.\u001b[0m\n",
      "\u001b[32m[I 2023-10-28 18:30:36,908]\u001b[0m Trial 84 finished with value: 94.24076764787964 and parameters: {'n_estimators': 76, 'max_depth': 13, 'learning_rate': 0.011924280618063143, 'num_leaves': 16, 'min_child_samples': 63, 'reg_alpha': 0.09991966182725222, 'reg_lambda': 0.12553724623513066}. Best is trial 53 with value: 93.39396792895573.\u001b[0m\n",
      "\u001b[32m[I 2023-10-28 18:30:37,294]\u001b[0m Trial 85 finished with value: 96.95306753845831 and parameters: {'n_estimators': 153, 'max_depth': 14, 'learning_rate': 0.01466275012972692, 'num_leaves': 23, 'min_child_samples': 62, 'reg_alpha': 0.10511842669515384, 'reg_lambda': 0.11754251342151986}. Best is trial 53 with value: 93.39396792895573.\u001b[0m\n",
      "\u001b[32m[I 2023-10-28 18:30:37,507]\u001b[0m Trial 86 finished with value: 95.37290647561949 and parameters: {'n_estimators': 84, 'max_depth': 13, 'learning_rate': 0.01239407712564784, 'num_leaves': 19, 'min_child_samples': 77, 'reg_alpha': 0.20168276755396755, 'reg_lambda': 0.13697124855893134}. Best is trial 53 with value: 93.39396792895573.\u001b[0m\n",
      "\u001b[32m[I 2023-10-28 18:30:37,755]\u001b[0m Trial 87 finished with value: 100.63982744436046 and parameters: {'n_estimators': 116, 'max_depth': 13, 'learning_rate': 0.026145909374126086, 'num_leaves': 16, 'min_child_samples': 82, 'reg_alpha': 0.18771895241850842, 'reg_lambda': 0.2471312308825343}. Best is trial 53 with value: 93.39396792895573.\u001b[0m\n",
      "\u001b[32m[I 2023-10-28 18:30:37,963]\u001b[0m Trial 88 finished with value: 98.89396847859095 and parameters: {'n_estimators': 68, 'max_depth': 15, 'learning_rate': 0.04052315352741265, 'num_leaves': 18, 'min_child_samples': 68, 'reg_alpha': 0.14362768924065125, 'reg_lambda': 0.19657200379459094}. Best is trial 53 with value: 93.39396792895573.\u001b[0m\n",
      "\u001b[32m[I 2023-10-28 18:30:38,555]\u001b[0m Trial 89 finished with value: 123.54701288516453 and parameters: {'n_estimators': 283, 'max_depth': 14, 'learning_rate': 0.07495040683304374, 'num_leaves': 16, 'min_child_samples': 60, 'reg_alpha': 0.028187161678617373, 'reg_lambda': 0.16239575571758036}. Best is trial 53 with value: 93.39396792895573.\u001b[0m\n",
      "\u001b[32m[I 2023-10-28 18:30:38,783]\u001b[0m Trial 90 finished with value: 93.71433464291104 and parameters: {'n_estimators': 62, 'max_depth': 15, 'learning_rate': 0.012797394655103163, 'num_leaves': 20, 'min_child_samples': 35, 'reg_alpha': 0.0717511468194291, 'reg_lambda': 0.12740014588961446}. Best is trial 53 with value: 93.39396792895573.\u001b[0m\n",
      "\u001b[32m[I 2023-10-28 18:30:39,011]\u001b[0m Trial 91 finished with value: 94.30164001803088 and parameters: {'n_estimators': 63, 'max_depth': 17, 'learning_rate': 0.014455411381244149, 'num_leaves': 21, 'min_child_samples': 43, 'reg_alpha': 0.06838322458833704, 'reg_lambda': 0.09423171017585824}. Best is trial 53 with value: 93.39396792895573.\u001b[0m\n",
      "\u001b[32m[I 2023-10-28 18:30:39,518]\u001b[0m Trial 92 finished with value: 101.3331314543608 and parameters: {'n_estimators': 188, 'max_depth': 17, 'learning_rate': 0.013063717078183323, 'num_leaves': 20, 'min_child_samples': 36, 'reg_alpha': 0.09527269571504948, 'reg_lambda': 0.06632599780591347}. Best is trial 53 with value: 93.39396792895573.\u001b[0m\n",
      "\u001b[32m[I 2023-10-28 18:30:39,766]\u001b[0m Trial 93 finished with value: 97.01291521754717 and parameters: {'n_estimators': 91, 'max_depth': 17, 'learning_rate': 0.02571048215361532, 'num_leaves': 18, 'min_child_samples': 63, 'reg_alpha': 0.07701180675831278, 'reg_lambda': 0.1306811044395399}. Best is trial 53 with value: 93.39396792895573.\u001b[0m\n",
      "\u001b[32m[I 2023-10-28 18:30:39,973]\u001b[0m Trial 94 finished with value: 94.80418056093382 and parameters: {'n_estimators': 50, 'max_depth': 18, 'learning_rate': 0.010890452585796894, 'num_leaves': 21, 'min_child_samples': 39, 'reg_alpha': 0.044450973652549755, 'reg_lambda': 0.1069231519392769}. Best is trial 53 with value: 93.39396792895573.\u001b[0m\n",
      "\u001b[32m[I 2023-10-28 18:30:40,174]\u001b[0m Trial 95 finished with value: 96.77689923097833 and parameters: {'n_estimators': 49, 'max_depth': 18, 'learning_rate': 0.041025911606113845, 'num_leaves': 19, 'min_child_samples': 34, 'reg_alpha': 0.04445087719513846, 'reg_lambda': 0.09528188845765825}. Best is trial 53 with value: 93.39396792895573.\u001b[0m\n",
      "\u001b[32m[I 2023-10-28 18:30:40,527]\u001b[0m Trial 96 finished with value: 95.6433998780864 and parameters: {'n_estimators': 125, 'max_depth': 16, 'learning_rate': 0.011878841323943226, 'num_leaves': 21, 'min_child_samples': 44, 'reg_alpha': 0.01709076362684348, 'reg_lambda': 0.17145738406536423}. Best is trial 53 with value: 93.39396792895573.\u001b[0m\n",
      "\u001b[32m[I 2023-10-28 18:30:40,952]\u001b[0m Trial 97 finished with value: 103.33311694949087 and parameters: {'n_estimators': 175, 'max_depth': 18, 'learning_rate': 0.029269167912670927, 'num_leaves': 16, 'min_child_samples': 43, 'reg_alpha': 0.06293756400031628, 'reg_lambda': 0.09077111014261728}. Best is trial 53 with value: 93.39396792895573.\u001b[0m\n",
      "\u001b[32m[I 2023-10-28 18:30:41,445]\u001b[0m Trial 98 finished with value: 118.64340680406441 and parameters: {'n_estimators': 230, 'max_depth': 15, 'learning_rate': 0.05918448937240483, 'num_leaves': 19, 'min_child_samples': 71, 'reg_alpha': 0.0066921439066272015, 'reg_lambda': 0.12513010826464652}. Best is trial 53 with value: 93.39396792895573.\u001b[0m\n",
      "\u001b[32m[I 2023-10-28 18:30:41,626]\u001b[0m Trial 99 finished with value: 94.41202189876883 and parameters: {'n_estimators': 48, 'max_depth': 18, 'learning_rate': 0.012036369921667359, 'num_leaves': 15, 'min_child_samples': 37, 'reg_alpha': 0.03905499951074275, 'reg_lambda': 0.024151452668145293}. Best is trial 53 with value: 93.39396792895573.\u001b[0m\n"
     ]
    }
   ],
   "source": [
    "study = optuna.create_study()\n",
    "study.optimize(objective, n_trials=100)"
   ]
  },
  {
   "cell_type": "code",
   "execution_count": 34,
   "metadata": {},
   "outputs": [
    {
     "name": "stdout",
     "output_type": "stream",
     "text": [
      "93.39396792895573\n",
      "{'n_estimators': 1327, 'max_depth': 9, 'learning_rate': 0.0007457671983693944, 'num_leaves': 35, 'min_child_samples': 46, 'reg_alpha': 0.2175176486716639, 'reg_lambda': 0.03875040820636515}\n"
     ]
    }
   ],
   "source": [
    "print(study.best_value)\n",
    "print(study.best_params)"
   ]
  },
  {
   "cell_type": "markdown",
   "metadata": {},
   "source": [
    "# 모델 학습 후 저장"
   ]
  },
  {
   "cell_type": "code",
   "execution_count": 35,
   "metadata": {},
   "outputs": [],
   "source": [
    "import joblib"
   ]
  },
  {
   "cell_type": "code",
   "execution_count": 36,
   "metadata": {},
   "outputs": [
    {
     "data": {
      "text/plain": [
       "['../model/시간3잔차fitting_r2.pkl']"
      ]
     },
     "execution_count": 36,
     "metadata": {},
     "output_type": "execute_result"
    }
   ],
   "source": [
    "# 모델 학습 후 저장 !!! 필 히  이름 바 꿀 것!!!!!!11\n",
    "model=LGBMRegressor(**study.best_params,random_state=42)\n",
    "model.fit(x_df2_3,y_df2_3)\n",
    "joblib.dump(model,\"../model/시간3잔차fitting_r2.pkl\")"
   ]
  },
  {
   "cell_type": "markdown",
   "metadata": {},
   "source": [
    "# 예측 시작"
   ]
  },
  {
   "cell_type": "markdown",
   "metadata": {},
   "source": [
    "## 예측하려는 파일을 이제 시간대별 round별로 나눠야함 \n",
    "## 해당 기능을 수행하는 함수 선언"
   ]
  },
  {
   "cell_type": "code",
   "execution_count": 37,
   "metadata": {},
   "outputs": [],
   "source": [
    "## test data set 만드는 함수\n",
    "def make_test_xy(wf,gf):\n",
    "    gf.columns = [\"time\",\"m0\",\"m1\",\"m2\",\"m3\",\"m4\"]\n",
    "    train = pd.merge(gf,wf,on=\"time\")\n",
    "    train[\"time\"] = pd.to_datetime(train[\"time\"])\n",
    "    train[\"month\"]=train[\"time\"].dt.month\n",
    "    train[\"day\"]=train[\"time\"].dt.day\n",
    "    train[\"hour\"]=train[\"time\"].dt.hour\n",
    "    \n",
    "    train_1 = train[(train[\"hour\"]<=10) & (train[\"hour\"]>=7)]\n",
    "    train_2 = train[(train[\"hour\"]<=14) & (train[\"hour\"]>=11)]\n",
    "    train_3 = train[(train[\"hour\"]<=19) & (train[\"hour\"]>=15)]\n",
    "    \n",
    "    train11 = train_1[[\"m0\",\"m1\",\"m2\",\"m3\",\"uv_idx\",\"elevation\"]]\n",
    "    train12 = train_2[[\"m0\",\"m1\",\"m2\",\"m3\",\"uv_idx\",\"elevation\"]]\n",
    "    train13 = train_3[[\"m0\",\"m1\",\"m2\",\"m3\",\"uv_idx\",\"elevation\"]]\n",
    "    train21 = train_1.drop([\"m0\",\"m1\",\"m2\",\"m3\",\"m4\",\"uv_idx\",\"elevation\",\"time\",\"hour\"],axis=1)\n",
    "    train22 = train_2.drop([\"m0\",\"m1\",\"m2\",\"m3\",\"m4\",\"uv_idx\",\"elevation\",\"time\",\"hour\"],axis=1)\n",
    "    train23 = train_3.drop([\"m0\",\"m1\",\"m2\",\"m3\",\"m4\",\"uv_idx\",\"elevation\",\"time\",\"hour\"],axis=1)\n",
    "    \n",
    "    return train11,train12,train13,train21,train22,train23"
   ]
  },
  {
   "cell_type": "code",
   "execution_count": 40,
   "metadata": {},
   "outputs": [],
   "source": [
    "# 예측에 사용할 데이터 셋 불러오기 \n",
    "x_pred_ori = pd.read_csv(\"../data/gen_fcst_17_2023-10-29.csv\")\n",
    "x_pred_wf = pd.read_csv(\"../data/weather_forecasts/wf17_2023-10-29.csv\")"
   ]
  },
  {
   "cell_type": "code",
   "execution_count": 41,
   "metadata": {},
   "outputs": [],
   "source": [
    "# 함수에 넣어서 데이터셋 분리\n",
    "test11,test12,test13,test21,test22,test23 = make_test_xy(x_pred_wf,x_pred_ori)"
   ]
  },
  {
   "cell_type": "code",
   "execution_count": 43,
   "metadata": {},
   "outputs": [],
   "source": [
    "model11=joblib.load(\"../model/시간1회귀fitting_r2.pkl\")\n",
    "model12=joblib.load(\"../model/시간2회귀fitting_r2.pkl\")\n",
    "model13=joblib.load(\"../model/시간3회귀fitting_r2.pkl\")"
   ]
  },
  {
   "cell_type": "code",
   "execution_count": 44,
   "metadata": {},
   "outputs": [],
   "source": [
    "# 예측 진행 (1차 모델링 y_hat)\n",
    "y_pred11=model11.predict(test11)\n",
    "y_pred12=model12.predict(test12)\n",
    "y_pred13=model13.predict(test13)"
   ]
  },
  {
   "cell_type": "code",
   "execution_count": 45,
   "metadata": {},
   "outputs": [],
   "source": [
    "model21=joblib.load(\"../model/시간1잔차fitting_r2.pkl\")\n",
    "model22=joblib.load(\"../model/시간2잔차fitting_r2.pkl\")\n",
    "model23=joblib.load(\"../model/시간3잔차fitting_r2.pkl\")"
   ]
  },
  {
   "cell_type": "code",
   "execution_count": 46,
   "metadata": {},
   "outputs": [],
   "source": [
    "y_pred21 = model21.predict(test21)\n",
    "y_pred22 = model22.predict(test22)\n",
    "y_pred23 = model23.predict(test23)"
   ]
  },
  {
   "cell_type": "code",
   "execution_count": 47,
   "metadata": {},
   "outputs": [],
   "source": [
    "result1 = y_pred11+y_pred21\n",
    "result2 = y_pred12+y_pred22\n",
    "result3 = y_pred13+y_pred23"
   ]
  },
  {
   "cell_type": "code",
   "execution_count": 48,
   "metadata": {},
   "outputs": [
    {
     "data": {
      "text/plain": [
       "array([ 1.35474742,  6.59445036, 26.80329053, 48.4434706 , 65.76463266,\n",
       "       71.77289597, 72.78084658, 66.27235926, 48.41336102, 31.64974038,\n",
       "        8.94495557, -1.16909971, -2.95582166])"
      ]
     },
     "execution_count": 48,
     "metadata": {},
     "output_type": "execute_result"
    }
   ],
   "source": [
    "result = np.concatenate((result1,result2,result3))\n",
    "result"
   ]
  }
 ],
 "metadata": {
  "kernelspec": {
   "display_name": "'conda'",
   "language": "python",
   "name": "conda"
  },
  "language_info": {
   "codemirror_mode": {
    "name": "ipython",
    "version": 3
   },
   "file_extension": ".py",
   "mimetype": "text/x-python",
   "name": "python",
   "nbconvert_exporter": "python",
   "pygments_lexer": "ipython3",
   "version": "3.10.0"
  }
 },
 "nbformat": 4,
 "nbformat_minor": 2
}
